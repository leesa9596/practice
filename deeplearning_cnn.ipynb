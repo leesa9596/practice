{
  "nbformat": 4,
  "nbformat_minor": 0,
  "metadata": {
    "kernelspec": {
      "display_name": "Python 3",
      "language": "python",
      "name": "python3"
    },
    "language_info": {
      "codemirror_mode": {
        "name": "ipython",
        "version": 3
      },
      "file_extension": ".py",
      "mimetype": "text/x-python",
      "name": "python",
      "nbconvert_exporter": "python",
      "pygments_lexer": "ipython3",
      "version": "3.7.5"
    },
    "colab": {
      "name": "deeplearning_cnn",
      "provenance": [],
      "include_colab_link": true
    }
  },
  "cells": [
    {
      "cell_type": "markdown",
      "metadata": {
        "id": "view-in-github",
        "colab_type": "text"
      },
      "source": [
        "<a href=\"https://colab.research.google.com/github/leesa9596/practice/blob/main/deeplearning_cnn.ipynb\" target=\"_parent\"><img src=\"https://colab.research.google.com/assets/colab-badge.svg\" alt=\"Open In Colab\"/></a>"
      ]
    },
    {
      "cell_type": "markdown",
      "metadata": {
        "id": "yF-FRoju8983"
      },
      "source": [
        "<a href=\"https://colab.research.google.com/github/minsuk-heo/tf2/blob/master/jupyter_notebooks/07.CNN.ipynb\" target=\"_parent\"><img src=\"https://colab.research.google.com/assets/colab-badge.svg\" alt=\"Open In Colab\"/></a>"
      ]
    },
    {
      "cell_type": "markdown",
      "metadata": {
        "id": "AvR__wCd8986"
      },
      "source": [
        "# CNN (Convolutional Neural Network)"
      ]
    },
    {
      "cell_type": "code",
      "metadata": {
        "id": "rmU_1Rc-8988"
      },
      "source": [
        "import tensorflow as tf\n",
        "from tensorflow.keras.datasets import mnist\n",
        "from tensorflow.keras.models import Sequential\n",
        "from tensorflow.keras.layers import Dense, Dropout, Flatten\n",
        "from tensorflow.keras.layers import Conv2D, MaxPooling2D\n",
        "#from tensorflow.keras import backend as K\n",
        "from tensorflow.keras.losses import categorical_crossentropy\n",
        "from tensorflow.keras.optimizers import Adam"
      ],
      "execution_count": 1,
      "outputs": []
    },
    {
      "cell_type": "code",
      "metadata": {
        "id": "ri4Mx1Ve898-",
        "colab": {
          "base_uri": "https://localhost:8080/"
        },
        "outputId": "cc93ee3c-8dc4-4c2a-d03e-4e0c4e3445c7"
      },
      "source": [
        "# collect MNIST data\n",
        "(x_train, y_train), (x_test, y_test) = mnist.load_data()"
      ],
      "execution_count": 3,
      "outputs": [
        {
          "output_type": "stream",
          "text": [
            "Downloading data from https://storage.googleapis.com/tensorflow/tf-keras-datasets/mnist.npz\n",
            "11493376/11490434 [==============================] - 0s 0us/step\n"
          ],
          "name": "stdout"
        }
      ]
    },
    {
      "cell_type": "code",
      "metadata": {
        "id": "AhE5myPC898-",
        "colab": {
          "base_uri": "https://localhost:8080/"
        },
        "outputId": "b865082d-2002-4e1d-c2b0-9c9ed3188c96"
      },
      "source": [
        "x_train.shape"
      ],
      "execution_count": 4,
      "outputs": [
        {
          "output_type": "execute_result",
          "data": {
            "text/plain": [
              "(60000, 28, 28)"
            ]
          },
          "metadata": {
            "tags": []
          },
          "execution_count": 4
        }
      ]
    },
    {
      "cell_type": "code",
      "metadata": {
        "id": "zjwZreXb899C",
        "colab": {
          "base_uri": "https://localhost:8080/"
        },
        "outputId": "13f8aceb-0f0f-43f4-d03b-6f6a46868d0c"
      },
      "source": [
        "# reshape data\n",
        "import numpy as np\n",
        "x_train = np.reshape(x_train, (60000,28,28,1))\n",
        "x_test = np.reshape(x_test, (10000,28,28,1))\n",
        "\n",
        "print(x_train.shape)\n",
        "print(x_test.shape)"
      ],
      "execution_count": 5,
      "outputs": [
        {
          "output_type": "stream",
          "text": [
            "(60000, 28, 28, 1)\n",
            "(10000, 28, 28, 1)\n"
          ],
          "name": "stdout"
        }
      ]
    },
    {
      "cell_type": "code",
      "metadata": {
        "id": "kQP4Fq0G899D"
      },
      "source": [
        "x_train = x_train.astype('float32')\n",
        "x_test = x_test.astype('float32')\n",
        "\n",
        "x_train /= 255\n",
        "x_test /= 255"
      ],
      "execution_count": 6,
      "outputs": []
    },
    {
      "cell_type": "code",
      "metadata": {
        "id": "-3L2aFIc899D"
      },
      "source": [
        "# change label to one hot encoding\n",
        "num_classes = 10\n",
        "y_train = tf.keras.utils.to_categorical(y_train, num_classes)\n",
        "y_test = tf.keras.utils.to_categorical(y_test, num_classes)"
      ],
      "execution_count": 7,
      "outputs": []
    },
    {
      "cell_type": "code",
      "metadata": {
        "id": "ZReyueZN899E"
      },
      "source": [
        "def create_model():\n",
        "  model= Sequential()\n",
        "  model.add(Conv2D(16, kernel_size=(5, 5),\n",
        "                 activation='relu',\n",
        "                 input_shape=(28,28,1),padding='same'))\n",
        "  model.add(MaxPooling2D(pool_size=(2, 2)))\n",
        "  model.add(Conv2D(32, kernel_size=(5, 5), activation='relu',padding='same'))\n",
        "  model.add(MaxPooling2D(pool_size=(2, 2)))\n",
        "  model.add(Flatten())\n",
        "  model.add(Dense(128, activation='relu'))\n",
        "  model.add(Dense(num_classes, activation='softmax'))\n",
        "  return model"
      ],
      "execution_count": 11,
      "outputs": []
    },
    {
      "cell_type": "code",
      "metadata": {
        "id": "b2qXqjbT899F",
        "colab": {
          "base_uri": "https://localhost:8080/"
        },
        "outputId": "b2c0166a-7666-46d7-b444-56e4d30d437c"
      },
      "source": [
        "model=create_model()\n",
        "model.summary()"
      ],
      "execution_count": 12,
      "outputs": [
        {
          "output_type": "stream",
          "text": [
            "Model: \"sequential_1\"\n",
            "_________________________________________________________________\n",
            "Layer (type)                 Output Shape              Param #   \n",
            "=================================================================\n",
            "conv2d_2 (Conv2D)            (None, 28, 28, 16)        416       \n",
            "_________________________________________________________________\n",
            "max_pooling2d_2 (MaxPooling2 (None, 14, 14, 16)        0         \n",
            "_________________________________________________________________\n",
            "conv2d_3 (Conv2D)            (None, 14, 14, 32)        12832     \n",
            "_________________________________________________________________\n",
            "max_pooling2d_3 (MaxPooling2 (None, 7, 7, 32)          0         \n",
            "_________________________________________________________________\n",
            "flatten_1 (Flatten)          (None, 1568)              0         \n",
            "_________________________________________________________________\n",
            "dense_2 (Dense)              (None, 128)               200832    \n",
            "_________________________________________________________________\n",
            "dense_3 (Dense)              (None, 10)                1290      \n",
            "=================================================================\n",
            "Total params: 215,370\n",
            "Trainable params: 215,370\n",
            "Non-trainable params: 0\n",
            "_________________________________________________________________\n"
          ],
          "name": "stdout"
        }
      ]
    },
    {
      "cell_type": "code",
      "metadata": {
        "id": "_KfoDYeC899F"
      },
      "source": [
        "model.compile(loss=categorical_crossentropy,\n",
        "              optimizer=Adam(),\n",
        "              metrics=['accuracy'])"
      ],
      "execution_count": 13,
      "outputs": []
    },
    {
      "cell_type": "code",
      "metadata": {
        "scrolled": false,
        "id": "5EoURFBw899G",
        "colab": {
          "base_uri": "https://localhost:8080/"
        },
        "outputId": "c1ca0037-d18f-4efe-d29a-fbcf6417b001"
      },
      "source": [
        "\n",
        "from tensorflow.keras.callbacks import EarlyStopping\n",
        "callbacks = [EarlyStopping(monitor='val_accuracy', patience=2)]\n",
        "\n",
        "            \n",
        "model.fit(x_train, y_train,\n",
        "          batch_size=500,\n",
        "          epochs=10,\n",
        "          verbose=1,\n",
        "          validation_split = 0.1,\n",
        "          callbacks = callbacks)"
      ],
      "execution_count": 15,
      "outputs": [
        {
          "output_type": "stream",
          "text": [
            "Epoch 1/10\n",
            "108/108 [==============================] - 58s 525ms/step - loss: 0.4884 - accuracy: 0.8607 - val_loss: 0.1175 - val_accuracy: 0.9680\n",
            "Epoch 2/10\n",
            "108/108 [==============================] - 56s 523ms/step - loss: 0.1108 - accuracy: 0.9679 - val_loss: 0.0806 - val_accuracy: 0.9773\n",
            "Epoch 3/10\n",
            "108/108 [==============================] - 56s 522ms/step - loss: 0.0727 - accuracy: 0.9780 - val_loss: 0.0590 - val_accuracy: 0.9823\n",
            "Epoch 4/10\n",
            "108/108 [==============================] - 56s 523ms/step - loss: 0.0584 - accuracy: 0.9826 - val_loss: 0.0559 - val_accuracy: 0.9845\n",
            "Epoch 5/10\n",
            "108/108 [==============================] - 56s 521ms/step - loss: 0.0474 - accuracy: 0.9857 - val_loss: 0.0471 - val_accuracy: 0.9855\n",
            "Epoch 6/10\n",
            "108/108 [==============================] - 57s 524ms/step - loss: 0.0422 - accuracy: 0.9868 - val_loss: 0.0522 - val_accuracy: 0.9862\n",
            "Epoch 7/10\n",
            "108/108 [==============================] - 57s 526ms/step - loss: 0.0363 - accuracy: 0.9888 - val_loss: 0.0402 - val_accuracy: 0.9895\n",
            "Epoch 8/10\n",
            "108/108 [==============================] - 57s 524ms/step - loss: 0.0304 - accuracy: 0.9906 - val_loss: 0.0391 - val_accuracy: 0.9897\n",
            "Epoch 9/10\n",
            "108/108 [==============================] - 56s 523ms/step - loss: 0.0264 - accuracy: 0.9917 - val_loss: 0.0430 - val_accuracy: 0.9887\n",
            "Epoch 10/10\n",
            "108/108 [==============================] - 56s 523ms/step - loss: 0.0233 - accuracy: 0.9928 - val_loss: 0.0402 - val_accuracy: 0.9905\n"
          ],
          "name": "stdout"
        },
        {
          "output_type": "execute_result",
          "data": {
            "text/plain": [
              "<tensorflow.python.keras.callbacks.History at 0x7f9c8de2d7d0>"
            ]
          },
          "metadata": {
            "tags": []
          },
          "execution_count": 15
        }
      ]
    },
    {
      "cell_type": "code",
      "metadata": {
        "id": "xUYD0UfL899G",
        "colab": {
          "base_uri": "https://localhost:8080/"
        },
        "outputId": "ac2653b9-bd34-4f0a-9403-69e712281d02"
      },
      "source": [
        "score = model.evaluate(x_test, y_test, verbose=0)\n",
        "print('Test loss:', score[0])\n",
        "print('Test accuracy:', score[1])"
      ],
      "execution_count": 16,
      "outputs": [
        {
          "output_type": "stream",
          "text": [
            "Test loss: 0.030395885929465294\n",
            "Test accuracy: 0.9901000261306763\n"
          ],
          "name": "stdout"
        }
      ]
    },
    {
      "cell_type": "code",
      "metadata": {
        "id": "ndm5vOh9899H"
      },
      "source": [
        ""
      ],
      "execution_count": null,
      "outputs": []
    }
  ]
}