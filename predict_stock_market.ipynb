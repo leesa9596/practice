{
  "nbformat": 4,
  "nbformat_minor": 0,
  "metadata": {
    "colab": {
      "name": "predict stock market_lstm.ipynb",
      "provenance": [],
      "authorship_tag": "ABX9TyNHSB0PGntkWTH/yvhWZ6N6",
      "include_colab_link": true
    },
    "kernelspec": {
      "name": "python3",
      "display_name": "Python 3"
    },
    "language_info": {
      "name": "python"
    }
  },
  "cells": [
    {
      "cell_type": "markdown",
      "metadata": {
        "id": "view-in-github",
        "colab_type": "text"
      },
      "source": [
        "<a href=\"https://colab.research.google.com/github/leesa9596/practice/blob/main/predict_stock_market.ipynb\" target=\"_parent\"><img src=\"https://colab.research.google.com/assets/colab-badge.svg\" alt=\"Open In Colab\"/></a>"
      ]
    },
    {
      "cell_type": "code",
      "metadata": {
        "colab": {
          "base_uri": "https://localhost:8080/"
        },
        "id": "M1sZJJDtRmOa",
        "outputId": "8555d9c8-3fd2-4631-fd87-90d1573cff44"
      },
      "source": [
        "import pandas as pd\n",
        "import numpy as np\n",
        "import matplotlib.pyplot as plt\n",
        "import seaborn as sns\n",
        "import warnings\n",
        "import os\n",
        "\n",
        "%matplotlib inline\n",
        "warnings.filterwarnings('ignore')\n",
        "\n",
        "!pip install finance-datareader"
      ],
      "execution_count": null,
      "outputs": [
        {
          "output_type": "stream",
          "text": [
            "Collecting finance-datareader\n",
            "  Downloading finance_datareader-0.9.31-py3-none-any.whl (17 kB)\n",
            "Requirement already satisfied: pandas>=0.19.2 in /usr/local/lib/python3.7/dist-packages (from finance-datareader) (1.1.5)\n",
            "Requirement already satisfied: tqdm in /usr/local/lib/python3.7/dist-packages (from finance-datareader) (4.41.1)\n",
            "Collecting requests-file\n",
            "  Downloading requests_file-1.5.1-py2.py3-none-any.whl (3.7 kB)\n",
            "Requirement already satisfied: lxml in /usr/local/lib/python3.7/dist-packages (from finance-datareader) (4.2.6)\n",
            "Requirement already satisfied: requests>=2.3.0 in /usr/local/lib/python3.7/dist-packages (from finance-datareader) (2.23.0)\n",
            "Requirement already satisfied: python-dateutil>=2.7.3 in /usr/local/lib/python3.7/dist-packages (from pandas>=0.19.2->finance-datareader) (2.8.1)\n",
            "Requirement already satisfied: pytz>=2017.2 in /usr/local/lib/python3.7/dist-packages (from pandas>=0.19.2->finance-datareader) (2018.9)\n",
            "Requirement already satisfied: numpy>=1.15.4 in /usr/local/lib/python3.7/dist-packages (from pandas>=0.19.2->finance-datareader) (1.19.5)\n",
            "Requirement already satisfied: six>=1.5 in /usr/local/lib/python3.7/dist-packages (from python-dateutil>=2.7.3->pandas>=0.19.2->finance-datareader) (1.15.0)\n",
            "Requirement already satisfied: urllib3!=1.25.0,!=1.25.1,<1.26,>=1.21.1 in /usr/local/lib/python3.7/dist-packages (from requests>=2.3.0->finance-datareader) (1.24.3)\n",
            "Requirement already satisfied: certifi>=2017.4.17 in /usr/local/lib/python3.7/dist-packages (from requests>=2.3.0->finance-datareader) (2021.5.30)\n",
            "Requirement already satisfied: idna<3,>=2.5 in /usr/local/lib/python3.7/dist-packages (from requests>=2.3.0->finance-datareader) (2.10)\n",
            "Requirement already satisfied: chardet<4,>=3.0.2 in /usr/local/lib/python3.7/dist-packages (from requests>=2.3.0->finance-datareader) (3.0.4)\n",
            "Installing collected packages: requests-file, finance-datareader\n",
            "Successfully installed finance-datareader-0.9.31 requests-file-1.5.1\n"
          ],
          "name": "stdout"
        }
      ]
    },
    {
      "cell_type": "code",
      "metadata": {
        "id": "Uv7bDJezfGIk"
      },
      "source": [
        "import FinanceDataReader as fdr\n",
        "\n",
        "stock_code='AAPL'\n",
        "stock = fdr.DataReader(stock_code)"
      ],
      "execution_count": null,
      "outputs": []
    },
    {
      "cell_type": "code",
      "metadata": {
        "colab": {
          "base_uri": "https://localhost:8080/",
          "height": 393
        },
        "id": "hsmtRG_JhWDj",
        "outputId": "4d2bcccb-1556-4bb2-e9a9-916b663c0bec"
      },
      "source": [
        "stock.tail(10)"
      ],
      "execution_count": null,
      "outputs": [
        {
          "output_type": "execute_result",
          "data": {
            "text/html": [
              "<div>\n",
              "<style scoped>\n",
              "    .dataframe tbody tr th:only-of-type {\n",
              "        vertical-align: middle;\n",
              "    }\n",
              "\n",
              "    .dataframe tbody tr th {\n",
              "        vertical-align: top;\n",
              "    }\n",
              "\n",
              "    .dataframe thead th {\n",
              "        text-align: right;\n",
              "    }\n",
              "</style>\n",
              "<table border=\"1\" class=\"dataframe\">\n",
              "  <thead>\n",
              "    <tr style=\"text-align: right;\">\n",
              "      <th></th>\n",
              "      <th>Close</th>\n",
              "      <th>Open</th>\n",
              "      <th>High</th>\n",
              "      <th>Low</th>\n",
              "      <th>Volume</th>\n",
              "      <th>Change</th>\n",
              "    </tr>\n",
              "    <tr>\n",
              "      <th>Date</th>\n",
              "      <th></th>\n",
              "      <th></th>\n",
              "      <th></th>\n",
              "      <th></th>\n",
              "      <th></th>\n",
              "      <th></th>\n",
              "    </tr>\n",
              "  </thead>\n",
              "  <tbody>\n",
              "    <tr>\n",
              "      <th>2021-07-12</th>\n",
              "      <td>144.50</td>\n",
              "      <td>146.22</td>\n",
              "      <td>146.22</td>\n",
              "      <td>144.04</td>\n",
              "      <td>76300000.0</td>\n",
              "      <td>-0.0042</td>\n",
              "    </tr>\n",
              "    <tr>\n",
              "      <th>2021-07-13</th>\n",
              "      <td>145.64</td>\n",
              "      <td>143.70</td>\n",
              "      <td>147.46</td>\n",
              "      <td>143.70</td>\n",
              "      <td>100830000.0</td>\n",
              "      <td>0.0079</td>\n",
              "    </tr>\n",
              "    <tr>\n",
              "      <th>2021-07-14</th>\n",
              "      <td>149.15</td>\n",
              "      <td>148.00</td>\n",
              "      <td>149.57</td>\n",
              "      <td>147.70</td>\n",
              "      <td>127050000.0</td>\n",
              "      <td>0.0241</td>\n",
              "    </tr>\n",
              "    <tr>\n",
              "      <th>2021-07-15</th>\n",
              "      <td>148.48</td>\n",
              "      <td>149.25</td>\n",
              "      <td>149.98</td>\n",
              "      <td>147.10</td>\n",
              "      <td>106820000.0</td>\n",
              "      <td>-0.0045</td>\n",
              "    </tr>\n",
              "    <tr>\n",
              "      <th>2021-07-16</th>\n",
              "      <td>146.39</td>\n",
              "      <td>148.46</td>\n",
              "      <td>149.76</td>\n",
              "      <td>145.88</td>\n",
              "      <td>93250000.0</td>\n",
              "      <td>-0.0141</td>\n",
              "    </tr>\n",
              "    <tr>\n",
              "      <th>2021-07-19</th>\n",
              "      <td>142.45</td>\n",
              "      <td>143.75</td>\n",
              "      <td>144.07</td>\n",
              "      <td>141.67</td>\n",
              "      <td>121440000.0</td>\n",
              "      <td>-0.0269</td>\n",
              "    </tr>\n",
              "    <tr>\n",
              "      <th>2021-07-20</th>\n",
              "      <td>146.15</td>\n",
              "      <td>143.52</td>\n",
              "      <td>147.07</td>\n",
              "      <td>143.00</td>\n",
              "      <td>96350000.0</td>\n",
              "      <td>0.0260</td>\n",
              "    </tr>\n",
              "    <tr>\n",
              "      <th>2021-07-21</th>\n",
              "      <td>145.40</td>\n",
              "      <td>145.47</td>\n",
              "      <td>146.12</td>\n",
              "      <td>144.68</td>\n",
              "      <td>74990000.0</td>\n",
              "      <td>-0.0051</td>\n",
              "    </tr>\n",
              "    <tr>\n",
              "      <th>2021-07-22</th>\n",
              "      <td>146.80</td>\n",
              "      <td>145.93</td>\n",
              "      <td>148.20</td>\n",
              "      <td>145.81</td>\n",
              "      <td>77340000.0</td>\n",
              "      <td>0.0096</td>\n",
              "    </tr>\n",
              "    <tr>\n",
              "      <th>2021-07-23</th>\n",
              "      <td>148.56</td>\n",
              "      <td>147.68</td>\n",
              "      <td>148.71</td>\n",
              "      <td>146.93</td>\n",
              "      <td>71450000.0</td>\n",
              "      <td>0.0120</td>\n",
              "    </tr>\n",
              "  </tbody>\n",
              "</table>\n",
              "</div>"
            ],
            "text/plain": [
              "             Close    Open    High     Low       Volume  Change\n",
              "Date                                                           \n",
              "2021-07-12  144.50  146.22  146.22  144.04   76300000.0 -0.0042\n",
              "2021-07-13  145.64  143.70  147.46  143.70  100830000.0  0.0079\n",
              "2021-07-14  149.15  148.00  149.57  147.70  127050000.0  0.0241\n",
              "2021-07-15  148.48  149.25  149.98  147.10  106820000.0 -0.0045\n",
              "2021-07-16  146.39  148.46  149.76  145.88   93250000.0 -0.0141\n",
              "2021-07-19  142.45  143.75  144.07  141.67  121440000.0 -0.0269\n",
              "2021-07-20  146.15  143.52  147.07  143.00   96350000.0  0.0260\n",
              "2021-07-21  145.40  145.47  146.12  144.68   74990000.0 -0.0051\n",
              "2021-07-22  146.80  145.93  148.20  145.81   77340000.0  0.0096\n",
              "2021-07-23  148.56  147.68  148.71  146.93   71450000.0  0.0120"
            ]
          },
          "metadata": {
            "tags": []
          },
          "execution_count": 3
        }
      ]
    },
    {
      "cell_type": "code",
      "metadata": {
        "colab": {
          "base_uri": "https://localhost:8080/"
        },
        "id": "8Sp-VjLyhY73",
        "outputId": "dcca516e-8471-4df8-ddeb-7c723b27a047"
      },
      "source": [
        "stock.index"
      ],
      "execution_count": null,
      "outputs": [
        {
          "output_type": "execute_result",
          "data": {
            "text/plain": [
              "DatetimeIndex(['1980-12-12', '1980-12-15', '1980-12-16', '1980-12-17',\n",
              "               '1980-12-18', '1980-12-19', '1980-12-22', '1980-12-23',\n",
              "               '1980-12-24', '1980-12-26',\n",
              "               ...\n",
              "               '2021-07-12', '2021-07-13', '2021-07-14', '2021-07-15',\n",
              "               '2021-07-16', '2021-07-19', '2021-07-20', '2021-07-21',\n",
              "               '2021-07-22', '2021-07-23'],\n",
              "              dtype='datetime64[ns]', name='Date', length=10240, freq=None)"
            ]
          },
          "metadata": {
            "tags": []
          },
          "execution_count": 4
        }
      ]
    },
    {
      "cell_type": "code",
      "metadata": {
        "id": "rZ4ZTRHYiAwl"
      },
      "source": [
        "stock['Year'] = stock.index.year\n",
        "stock['Month'] = stock.index.month\n",
        "stock['Day'] = stock.index.day"
      ],
      "execution_count": null,
      "outputs": []
    },
    {
      "cell_type": "code",
      "metadata": {
        "colab": {
          "base_uri": "https://localhost:8080/",
          "height": 569
        },
        "id": "kUf2ZLahiEWR",
        "outputId": "502f8913-d6d2-46ef-ac7f-e209d6c21037"
      },
      "source": [
        "plt.figure(figsize=(16,9))\n",
        "sns.lineplot(y=stock['Close'],x=stock.index)\n",
        "plt.xlabel('date')\n",
        "plt.ylabel('price')"
      ],
      "execution_count": null,
      "outputs": [
        {
          "output_type": "execute_result",
          "data": {
            "text/plain": [
              "Text(0, 0.5, 'price')"
            ]
          },
          "metadata": {
            "tags": []
          },
          "execution_count": 6
        },
        {
          "output_type": "display_data",
          "data": {
            "image/png": "[encoded data removed]",
            "text/plain": [
              "<Figure size 1152x648 with 1 Axes>"
            ]
          },
          "metadata": {
            "tags": [],
            "needs_background": "light"
          }
        }
      ]
    },
    {
      "cell_type": "code",
      "metadata": {
        "colab": {
          "base_uri": "https://localhost:8080/"
        },
        "id": "fvrHDFQhiaUp",
        "outputId": "99835333-42c4-42f3-9e40-2b159aafcfa6"
      },
      "source": [
        "from sklearn.preprocessing import MinMaxScaler\n",
        "\n",
        "scaler=MinMaxScaler()\n",
        "scale_cols=['Open','High','Low','Close','Volume']\n",
        "scaled = scaler.fit_transform(stock[scale_cols])\n",
        "scaled"
      ],
      "execution_count": null,
      "outputs": [
        {
          "output_type": "execute_result",
          "data": {
            "text/plain": [
              "array([[5.36193029e-04, 5.33582338e-04, 5.41821876e-04, 5.36552649e-04,\n",
              "        6.29512116e-02],\n",
              "       [4.69168901e-04, 4.66884546e-04, 4.74094142e-04, 4.69483568e-04,\n",
              "        2.34889165e-02],\n",
              "       [4.02144772e-04, 4.00186754e-04, 4.06366407e-04, 4.02414487e-04,\n",
              "        1.40456963e-02],\n",
              "       ...,\n",
              "       [9.74664879e-01, 9.74254652e-01, 9.79546224e-01, 9.74849095e-01,\n",
              "        9.90764086e-03],\n",
              "       [9.77747989e-01, 9.88127793e-01, 9.87199458e-01, 9.84238766e-01,\n",
              "        1.02239854e-02],\n",
              "       [9.89477212e-01, 9.91529380e-01, 9.94784964e-01, 9.96042924e-01,\n",
              "        9.43110488e-03]])"
            ]
          },
          "metadata": {
            "tags": []
          },
          "execution_count": 7
        }
      ]
    },
    {
      "cell_type": "code",
      "metadata": {
        "id": "5O6wMpwvi5Gw"
      },
      "source": [
        "df=pd.DataFrame(scaled,columns=scale_cols)"
      ],
      "execution_count": null,
      "outputs": []
    },
    {
      "cell_type": "code",
      "metadata": {
        "id": "969NYlyNjC26"
      },
      "source": [
        "from sklearn.model_selection import train_test_split\n",
        "x_train, x_test, y_train, y_test = train_test_split(df.drop('Close',1),df['Close'], test_size=0.2, random_state=0, shuffle=False)"
      ],
      "execution_count": null,
      "outputs": []
    },
    {
      "cell_type": "code",
      "metadata": {
        "colab": {
          "base_uri": "https://localhost:8080/"
        },
        "id": "eihgieLNjX9c",
        "outputId": "603c23cf-f895-4626-cb8b-a9ea58f202c8"
      },
      "source": [
        "x_test.shape,y_test.shape"
      ],
      "execution_count": null,
      "outputs": [
        {
          "output_type": "execute_result",
          "data": {
            "text/plain": [
              "((2048, 4), (2048,))"
            ]
          },
          "metadata": {
            "tags": []
          },
          "execution_count": 10
        }
      ]
    },
    {
      "cell_type": "code",
      "metadata": {
        "colab": {
          "base_uri": "https://localhost:8080/",
          "height": 422
        },
        "id": "74jQXCiUjdDx",
        "outputId": "67b99425-e453-4e44-a80a-37b7bd242df4"
      },
      "source": [
        "x_train"
      ],
      "execution_count": null,
      "outputs": [
        {
          "output_type": "execute_result",
          "data": {
            "text/html": [
              "<div>\n",
              "<style scoped>\n",
              "    .dataframe tbody tr th:only-of-type {\n",
              "        vertical-align: middle;\n",
              "    }\n",
              "\n",
              "    .dataframe tbody tr th {\n",
              "        vertical-align: top;\n",
              "    }\n",
              "\n",
              "    .dataframe thead th {\n",
              "        text-align: right;\n",
              "    }\n",
              "</style>\n",
              "<table border=\"1\" class=\"dataframe\">\n",
              "  <thead>\n",
              "    <tr style=\"text-align: right;\">\n",
              "      <th></th>\n",
              "      <th>Open</th>\n",
              "      <th>High</th>\n",
              "      <th>Low</th>\n",
              "      <th>Volume</th>\n",
              "    </tr>\n",
              "  </thead>\n",
              "  <tbody>\n",
              "    <tr>\n",
              "      <th>0</th>\n",
              "      <td>0.000536</td>\n",
              "      <td>0.000534</td>\n",
              "      <td>0.000542</td>\n",
              "      <td>0.062951</td>\n",
              "    </tr>\n",
              "    <tr>\n",
              "      <th>1</th>\n",
              "      <td>0.000469</td>\n",
              "      <td>0.000467</td>\n",
              "      <td>0.000474</td>\n",
              "      <td>0.023489</td>\n",
              "    </tr>\n",
              "    <tr>\n",
              "      <th>2</th>\n",
              "      <td>0.000402</td>\n",
              "      <td>0.000400</td>\n",
              "      <td>0.000406</td>\n",
              "      <td>0.014046</td>\n",
              "    </tr>\n",
              "    <tr>\n",
              "      <th>3</th>\n",
              "      <td>0.000469</td>\n",
              "      <td>0.000467</td>\n",
              "      <td>0.000474</td>\n",
              "      <td>0.011449</td>\n",
              "    </tr>\n",
              "    <tr>\n",
              "      <th>4</th>\n",
              "      <td>0.000469</td>\n",
              "      <td>0.000467</td>\n",
              "      <td>0.000474</td>\n",
              "      <td>0.009700</td>\n",
              "    </tr>\n",
              "    <tr>\n",
              "      <th>...</th>\n",
              "      <td>...</td>\n",
              "      <td>...</td>\n",
              "      <td>...</td>\n",
              "      <td>...</td>\n",
              "    </tr>\n",
              "    <tr>\n",
              "      <th>8187</th>\n",
              "      <td>0.106367</td>\n",
              "      <td>0.107917</td>\n",
              "      <td>0.107213</td>\n",
              "      <td>0.047427</td>\n",
              "    </tr>\n",
              "    <tr>\n",
              "      <th>8188</th>\n",
              "      <td>0.107976</td>\n",
              "      <td>0.108517</td>\n",
              "      <td>0.108364</td>\n",
              "      <td>0.051545</td>\n",
              "    </tr>\n",
              "    <tr>\n",
              "      <th>8189</th>\n",
              "      <td>0.107574</td>\n",
              "      <td>0.107450</td>\n",
              "      <td>0.106671</td>\n",
              "      <td>0.049937</td>\n",
              "    </tr>\n",
              "    <tr>\n",
              "      <th>8190</th>\n",
              "      <td>0.108177</td>\n",
              "      <td>0.107917</td>\n",
              "      <td>0.107890</td>\n",
              "      <td>0.039219</td>\n",
              "    </tr>\n",
              "    <tr>\n",
              "      <th>8191</th>\n",
              "      <td>0.106367</td>\n",
              "      <td>0.107050</td>\n",
              "      <td>0.107010</td>\n",
              "      <td>0.038931</td>\n",
              "    </tr>\n",
              "  </tbody>\n",
              "</table>\n",
              "<p>8192 rows × 4 columns</p>\n",
              "</div>"
            ],
            "text/plain": [
              "          Open      High       Low    Volume\n",
              "0     0.000536  0.000534  0.000542  0.062951\n",
              "1     0.000469  0.000467  0.000474  0.023489\n",
              "2     0.000402  0.000400  0.000406  0.014046\n",
              "3     0.000469  0.000467  0.000474  0.011449\n",
              "4     0.000469  0.000467  0.000474  0.009700\n",
              "...        ...       ...       ...       ...\n",
              "8187  0.106367  0.107917  0.107213  0.047427\n",
              "8188  0.107976  0.108517  0.108364  0.051545\n",
              "8189  0.107574  0.107450  0.106671  0.049937\n",
              "8190  0.108177  0.107917  0.107890  0.039219\n",
              "8191  0.106367  0.107050  0.107010  0.038931\n",
              "\n",
              "[8192 rows x 4 columns]"
            ]
          },
          "metadata": {
            "tags": []
          },
          "execution_count": 11
        }
      ]
    },
    {
      "cell_type": "code",
      "metadata": {
        "id": "376W6puEjgEQ"
      },
      "source": [
        "import tensorflow as tf\n",
        "\n",
        "\n",
        "def windowed_dataset(series, window_size, batch_size, shuffle):\n",
        "    series = tf.expand_dims(series, axis=-1)\n",
        "    ds = tf.data.Dataset.from_tensor_slices(series)\n",
        "    ds = ds.window(window_size + 1, shift=1, drop_remainder=True)\n",
        "    ds = ds.flat_map(lambda w: w.batch(window_size + 1))\n",
        "    if shuffle:\n",
        "        ds = ds.shuffle(1000)\n",
        "    ds = ds.map(lambda w: (w[:-1], w[-1]))\n",
        "    return ds.batch(batch_size).prefetch(1)\n",
        "\n",
        "WINDOW_SIZE=20\n",
        "BATCH_SIZE=32\n",
        "\n",
        "train_data = windowed_dataset(y_train, WINDOW_SIZE, BATCH_SIZE, True)\n",
        "test_data = windowed_dataset(y_test, WINDOW_SIZE, BATCH_SIZE, False)\n",
        "\n",
        "from tensorflow.keras.models import Sequential\n",
        "from tensorflow.keras.layers import Dense, LSTM, Conv1D,Lambda\n",
        "from tensorflow.keras.losses import Huber\n",
        "from tensorflow.keras.optimizers import Adam\n",
        "from tensorflow.keras.callbacks import EarlyStopping, ModelCheckpoint\n",
        "\n",
        "\n",
        "model = Sequential([\n",
        "                    Conv1D(filters=32,kernel_size=5,\n",
        "                           padding = \"causal\",\n",
        "                           activation= \"relu\",\n",
        "                           input_shape=[20,1]),\n",
        "                  LSTM(16,activation='tanh'),\n",
        "                  Dense(16,activation='relu'),\n",
        "                  Dense(1),\n",
        "])"
      ],
      "execution_count": null,
      "outputs": []
    },
    {
      "cell_type": "code",
      "metadata": {
        "id": "eg5ESKtcoblF"
      },
      "source": [
        "loss=Huber()\n",
        "optimizer =Adam(0.0005)\n",
        "model.compile(loss=Huber(),optimizer=optimizer,metrics=['mse'])"
      ],
      "execution_count": null,
      "outputs": []
    },
    {
      "cell_type": "code",
      "metadata": {
        "id": "xulTFOUBpt14"
      },
      "source": [
        "earlystopping=EarlyStopping(monitor='val_loss',patience=10)\n",
        "\n",
        "filename = os.path.join('tmp', 'ckeckpointer.ckpt')\n",
        "checkpoint = ModelCheckpoint(filename, \n",
        "                             save_weights_only=True, \n",
        "                             save_best_only=True, \n",
        "                             monitor='val_loss', \n",
        "                             verbose=1)"
      ],
      "execution_count": null,
      "outputs": []
    },
    {
      "cell_type": "code",
      "metadata": {
        "colab": {
          "base_uri": "https://localhost:8080/"
        },
        "id": "QpwB3aIhp6ZU",
        "outputId": "bfb7f00a-1fbb-4d1a-8a7f-f02456265cb0"
      },
      "source": [
        "history = model.fit(train_data, \n",
        "                    validation_data=(test_data), \n",
        "                    epochs=50, \n",
        "                    callbacks=[checkpoint, earlystopping])"
      ],
      "execution_count": null,
      "outputs": [
        {
          "output_type": "stream",
          "text": [
            "Epoch 1/50\n",
            "256/256 [==============================] - 6s 12ms/step - loss: 5.7945e-06 - mse: 1.1589e-05 - val_loss: 0.0062 - val_mse: 0.0124\n",
            "\n",
            "Epoch 00001: val_loss improved from inf to 0.00620, saving model to tmp/ckeckpointer.ckpt\n",
            "Epoch 2/50\n",
            "256/256 [==============================] - 3s 11ms/step - loss: 1.3720e-06 - mse: 2.7440e-06 - val_loss: 0.0055 - val_mse: 0.0110\n",
            "\n",
            "Epoch 00002: val_loss improved from 0.00620 to 0.00551, saving model to tmp/ckeckpointer.ckpt\n",
            "Epoch 3/50\n",
            "256/256 [==============================] - 3s 11ms/step - loss: 1.2149e-06 - mse: 2.4299e-06 - val_loss: 0.0054 - val_mse: 0.0109\n",
            "\n",
            "Epoch 00003: val_loss improved from 0.00551 to 0.00543, saving model to tmp/ckeckpointer.ckpt\n",
            "Epoch 4/50\n",
            "256/256 [==============================] - 3s 11ms/step - loss: 1.2180e-06 - mse: 2.4359e-06 - val_loss: 0.0053 - val_mse: 0.0105\n",
            "\n",
            "Epoch 00004: val_loss improved from 0.00543 to 0.00526, saving model to tmp/ckeckpointer.ckpt\n",
            "Epoch 5/50\n",
            "256/256 [==============================] - 3s 11ms/step - loss: 1.2501e-06 - mse: 2.5001e-06 - val_loss: 0.0053 - val_mse: 0.0106\n",
            "\n",
            "Epoch 00005: val_loss did not improve from 0.00526\n",
            "Epoch 6/50\n",
            "256/256 [==============================] - 3s 11ms/step - loss: 1.0517e-06 - mse: 2.1034e-06 - val_loss: 0.0053 - val_mse: 0.0106\n",
            "\n",
            "Epoch 00006: val_loss did not improve from 0.00526\n",
            "Epoch 7/50\n",
            "256/256 [==============================] - 3s 11ms/step - loss: 9.7026e-07 - mse: 1.9405e-06 - val_loss: 0.0055 - val_mse: 0.0110\n",
            "\n",
            "Epoch 00007: val_loss did not improve from 0.00526\n",
            "Epoch 8/50\n",
            "256/256 [==============================] - 3s 11ms/step - loss: 1.2206e-06 - mse: 2.4412e-06 - val_loss: 0.0062 - val_mse: 0.0123\n",
            "\n",
            "Epoch 00008: val_loss did not improve from 0.00526\n",
            "Epoch 9/50\n",
            "256/256 [==============================] - 3s 11ms/step - loss: 1.0821e-06 - mse: 2.1642e-06 - val_loss: 0.0042 - val_mse: 0.0084\n",
            "\n",
            "Epoch 00009: val_loss improved from 0.00526 to 0.00419, saving model to tmp/ckeckpointer.ckpt\n",
            "Epoch 10/50\n",
            "256/256 [==============================] - 3s 11ms/step - loss: 9.5351e-07 - mse: 1.9070e-06 - val_loss: 0.0043 - val_mse: 0.0087\n",
            "\n",
            "Epoch 00010: val_loss did not improve from 0.00419\n",
            "Epoch 11/50\n",
            "256/256 [==============================] - 3s 11ms/step - loss: 1.1685e-06 - mse: 2.3371e-06 - val_loss: 0.0049 - val_mse: 0.0098\n",
            "\n",
            "Epoch 00011: val_loss did not improve from 0.00419\n",
            "Epoch 12/50\n",
            "256/256 [==============================] - 3s 11ms/step - loss: 9.9896e-07 - mse: 1.9979e-06 - val_loss: 0.0049 - val_mse: 0.0097\n",
            "\n",
            "Epoch 00012: val_loss did not improve from 0.00419\n",
            "Epoch 13/50\n",
            "256/256 [==============================] - 3s 11ms/step - loss: 8.9481e-07 - mse: 1.7896e-06 - val_loss: 0.0049 - val_mse: 0.0097\n",
            "\n",
            "Epoch 00013: val_loss did not improve from 0.00419\n",
            "Epoch 14/50\n",
            "256/256 [==============================] - 3s 11ms/step - loss: 8.7600e-07 - mse: 1.7520e-06 - val_loss: 0.0044 - val_mse: 0.0088\n",
            "\n",
            "Epoch 00014: val_loss did not improve from 0.00419\n",
            "Epoch 15/50\n",
            "256/256 [==============================] - 3s 11ms/step - loss: 8.9041e-07 - mse: 1.7808e-06 - val_loss: 0.0050 - val_mse: 0.0100\n",
            "\n",
            "Epoch 00015: val_loss did not improve from 0.00419\n",
            "Epoch 16/50\n",
            "256/256 [==============================] - 3s 11ms/step - loss: 1.1992e-06 - mse: 2.3985e-06 - val_loss: 0.0050 - val_mse: 0.0100\n",
            "\n",
            "Epoch 00016: val_loss did not improve from 0.00419\n",
            "Epoch 17/50\n",
            "256/256 [==============================] - 3s 11ms/step - loss: 9.5097e-07 - mse: 1.9019e-06 - val_loss: 0.0046 - val_mse: 0.0093\n",
            "\n",
            "Epoch 00017: val_loss did not improve from 0.00419\n",
            "Epoch 18/50\n",
            "256/256 [==============================] - 3s 11ms/step - loss: 8.5898e-07 - mse: 1.7180e-06 - val_loss: 0.0039 - val_mse: 0.0078\n",
            "\n",
            "Epoch 00018: val_loss improved from 0.00419 to 0.00392, saving model to tmp/ckeckpointer.ckpt\n",
            "Epoch 19/50\n",
            "256/256 [==============================] - 3s 11ms/step - loss: 9.9931e-07 - mse: 1.9986e-06 - val_loss: 0.0044 - val_mse: 0.0087\n",
            "\n",
            "Epoch 00019: val_loss did not improve from 0.00392\n",
            "Epoch 20/50\n",
            "256/256 [==============================] - 3s 11ms/step - loss: 8.6948e-07 - mse: 1.7390e-06 - val_loss: 0.0036 - val_mse: 0.0072\n",
            "\n",
            "Epoch 00020: val_loss improved from 0.00392 to 0.00358, saving model to tmp/ckeckpointer.ckpt\n",
            "Epoch 21/50\n",
            "256/256 [==============================] - 3s 11ms/step - loss: 7.4820e-07 - mse: 1.4964e-06 - val_loss: 0.0031 - val_mse: 0.0062\n",
            "\n",
            "Epoch 00021: val_loss improved from 0.00358 to 0.00311, saving model to tmp/ckeckpointer.ckpt\n",
            "Epoch 22/50\n",
            "256/256 [==============================] - 3s 11ms/step - loss: 8.3057e-07 - mse: 1.6611e-06 - val_loss: 0.0039 - val_mse: 0.0078\n",
            "\n",
            "Epoch 00022: val_loss did not improve from 0.00311\n",
            "Epoch 23/50\n",
            "256/256 [==============================] - 3s 11ms/step - loss: 8.8948e-07 - mse: 1.7790e-06 - val_loss: 0.0036 - val_mse: 0.0072\n",
            "\n",
            "Epoch 00023: val_loss did not improve from 0.00311\n",
            "Epoch 24/50\n",
            "256/256 [==============================] - 3s 11ms/step - loss: 8.9410e-07 - mse: 1.7882e-06 - val_loss: 0.0035 - val_mse: 0.0070\n",
            "\n",
            "Epoch 00024: val_loss did not improve from 0.00311\n",
            "Epoch 25/50\n",
            "256/256 [==============================] - 3s 11ms/step - loss: 8.7641e-07 - mse: 1.7528e-06 - val_loss: 0.0040 - val_mse: 0.0080\n",
            "\n",
            "Epoch 00025: val_loss did not improve from 0.00311\n",
            "Epoch 26/50\n",
            "256/256 [==============================] - 3s 11ms/step - loss: 9.0264e-07 - mse: 1.8053e-06 - val_loss: 0.0033 - val_mse: 0.0067\n",
            "\n",
            "Epoch 00026: val_loss did not improve from 0.00311\n",
            "Epoch 27/50\n",
            "256/256 [==============================] - 3s 11ms/step - loss: 7.1554e-07 - mse: 1.4311e-06 - val_loss: 0.0037 - val_mse: 0.0073\n",
            "\n",
            "Epoch 00027: val_loss did not improve from 0.00311\n",
            "Epoch 28/50\n",
            "256/256 [==============================] - 3s 11ms/step - loss: 7.4510e-07 - mse: 1.4902e-06 - val_loss: 0.0034 - val_mse: 0.0068\n",
            "\n",
            "Epoch 00028: val_loss did not improve from 0.00311\n",
            "Epoch 29/50\n",
            "256/256 [==============================] - 3s 11ms/step - loss: 9.6309e-07 - mse: 1.9262e-06 - val_loss: 0.0033 - val_mse: 0.0066\n",
            "\n",
            "Epoch 00029: val_loss did not improve from 0.00311\n",
            "Epoch 30/50\n",
            "256/256 [==============================] - 3s 11ms/step - loss: 7.7128e-07 - mse: 1.5426e-06 - val_loss: 0.0032 - val_mse: 0.0064\n",
            "\n",
            "Epoch 00030: val_loss did not improve from 0.00311\n",
            "Epoch 31/50\n",
            "256/256 [==============================] - 3s 11ms/step - loss: 7.7194e-07 - mse: 1.5439e-06 - val_loss: 0.0032 - val_mse: 0.0065\n",
            "\n",
            "Epoch 00031: val_loss did not improve from 0.00311\n"
          ],
          "name": "stdout"
        }
      ]
    },
    {
      "cell_type": "code",
      "metadata": {
        "colab": {
          "base_uri": "https://localhost:8080/"
        },
        "id": "B7BCwZaPqA8D",
        "outputId": "e997ca82-cf63-43bf-ab47-7998c5a9cfac"
      },
      "source": [
        "model.load_weights(filename)\n",
        "pred = model.predict(test_data)\n",
        "pred.shape"
      ],
      "execution_count": null,
      "outputs": [
        {
          "output_type": "execute_result",
          "data": {
            "text/plain": [
              "(2028, 1)"
            ]
          },
          "metadata": {
            "tags": []
          },
          "execution_count": 21
        }
      ]
    },
    {
      "cell_type": "code",
      "metadata": {
        "colab": {
          "base_uri": "https://localhost:8080/",
          "height": 537
        },
        "id": "T-9oot5uqkfk",
        "outputId": "dc9bd204-e6dc-4c87-c125-9ca95089d054"
      },
      "source": [
        "plt.figure(figsize=(12, 9))\n",
        "plt.plot(np.asarray(y_test)[20:], label='actual')\n",
        "plt.plot(pred, label='prediction')\n",
        "plt.legend()\n",
        "plt.show()"
      ],
      "execution_count": null,
      "outputs": [
        {
          "output_type": "display_data",
          "data": {
            "image/png": "[encoded data removed]",
            "text/plain": [
              "<Figure size 864x648 with 1 Axes>"
            ]
          },
          "metadata": {
            "tags": [],
            "needs_background": "light"
          }
        }
      ]
    },
    {
      "cell_type": "code",
      "metadata": {
        "id": "_jJrKFNBsFP-"
      },
      "source": [
        ""
      ],
      "execution_count": null,
      "outputs": []
    }
  ]
}