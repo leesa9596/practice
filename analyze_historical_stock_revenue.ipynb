{
  "nbformat": 4,
  "nbformat_minor": 0,
  "metadata": {
    "colab": {
      "name": "analyze historical stock/revenue.ipynb",
      "provenance": [],
      "collapsed_sections": [],
      "authorship_tag": "ABX9TyMRDwZ3bFSv9mRspspyQN9s",
      "include_colab_link": true
    },
    "kernelspec": {
      "name": "python3",
      "display_name": "Python 3"
    },
    "language_info": {
      "name": "python"
    }
  },
  "cells": [
    {
      "cell_type": "markdown",
      "metadata": {
        "id": "view-in-github",
        "colab_type": "text"
      },
      "source": [
        "<a href=\"https://colab.research.google.com/github/leesa9596/practice/blob/main/analyze_historical_stock_revenue.ipynb\" target=\"_parent\"><img src=\"https://colab.research.google.com/assets/colab-badge.svg\" alt=\"Open In Colab\"/></a>"
      ]
    },
    {
      "cell_type": "code",
      "metadata": {
        "id": "atRjc7YXNTY0"
      },
      "source": [
        "!pip install yfinance\n",
        "#!pip install pandas\n",
        "#!pip install requests\n",
        "!pip install bs4\n",
        "#!pip install plotly\n",
        "\n",
        "import yfinance as yf\n",
        "import pandas as pd\n",
        "import requests\n",
        "from bs4 import BeautifulSoup\n",
        "import plotly.graph_objects as go\n",
        "from plotly.subplots import make_subplots\n",
        "\n",
        "def make_graph(stock_data, revenue_data, stock):\n",
        "    fig = make_subplots(rows=2, cols=1, shared_xaxes=True, subplot_titles=(\"Historical Share Price\", \"Historical Revenue\"), vertical_spacing = .3)\n",
        "    fig.add_trace(go.Scatter(x=pd.to_datetime(stock_data.Date, infer_datetime_format=True), y=stock_data.Close.astype(\"float\"), name=\"Share Price\"), row=1, col=1)\n",
        "    fig.add_trace(go.Scatter(x=pd.to_datetime(revenue_data.Date, infer_datetime_format=True), y=revenue_data.Revenue.astype(\"float\"), name=\"Revenue\"), row=2, col=1)\n",
        "    fig.update_xaxes(title_text=\"Date\", row=1, col=1)\n",
        "    fig.update_xaxes(title_text=\"Date\", row=2, col=1)\n",
        "    fig.update_yaxes(title_text=\"Price ($US)\", row=1, col=1)\n",
        "    fig.update_yaxes(title_text=\"Revenue ($US Millions)\", row=2, col=1)\n",
        "    fig.update_layout(showlegend=False,\n",
        "    height=900,\n",
        "    title=stock,\n",
        "    xaxis_rangeslider_visible=True)\n",
        "    fig.show()\n",
        "\n",
        "tsla=yf.Ticker(\"TSLA\")\n",
        "\n",
        "tesla_data = tsla.history(period=\"max\")\n",
        "tesla_data.head()\n",
        "\n",
        "tesla_data.reset_index(inplace=True)\n",
        "tesla_data.head()\n",
        "\n",
        "html_data=requests.get(\"https://www.macrotrends.net/stocks/charts/TSLA/tesla/revenue\").text\n",
        "\n",
        "soup=BeautifulSoup(html_data,\"html.parser\")\n",
        "soup.find_all('title')\n",
        "\n",
        "tesla_revenue=pd.DataFrame(columns=[\"Date\",\"Revenue\"])\n",
        "for row in soup.find_all(\"tbody\")[1].find_all(\"tr\"):\n",
        "    col=row.find_all(\"td\")\n",
        "    date=col[0].text\n",
        "    revenue=col[1].text.replace(\"$\", \"\").replace(\",\", \"\")\n",
        "    tesla_revenue = tesla_revenue.append({\"Date\":date,\"Revenue\":revenue},ignore_index=True)\n",
        "tesla_revenue.head()   \n",
        "\n",
        "tesla_revenue.dropna(inplace=True)\n",
        "tesla_revenue=tesla_revenue[tesla_revenue['Revenue']!=\"\"]\n",
        "tesla_revenue\n",
        "\n",
        "tesla_revenue.tail()\n",
        "\n",
        "gamestop=yf.Ticker(\"GME\")\n",
        "\n",
        "gme_data=gamestop.history(period=\"max\")\n",
        "\n",
        "gme_data.reset_index(inplace=True)\n",
        "gme_data.head()\n",
        "\n",
        "url=\"https://www.macrotrends.net/stocks/charts/GME/gamestop/revenue\"\n",
        "html_data=requests.get(url).text\n",
 
        "\n",
        "soup=BeautifulSoup(html_data,\"html.parser\")\n",
   
        "gme_revenue=pd.DataFrame(columns=[\"Date\",\"Revenue\"])\n",
        "for row in soup.find_all(\"tbody\")[1].find_all(\"tr\"):\n",
        "    col=row.find_all(\"td\")\n",
        "    date=col[0].text\n",
        "    revenue=col[1].text.replace(\"$\",\"\").replace(\",\",\"\")\n",
        "    gme_revenue=gme_revenue.append({\"Date\":date,\"Revenue\":revenue},ignore_index=True)\n",
        "gme_revenue.dropna(inplace=True)\n",
        "gme_revenue=gme_revenue[gme_revenue[\"Revenue\"]!=\"\"]\n",
        "\n",
        "gme_revenue\n",
        "\n",
        "gme_revenue.tail()\n",
        "\n",
        "make_graph(tesla_data, tesla_revenue, 'Tesla')\n",
        " \n",
        "make_graph(gme_data, gme_revenue, 'GameStop')\n"
      ],
      "execution_count": null,
      "outputs": []
    }
  ]
}
