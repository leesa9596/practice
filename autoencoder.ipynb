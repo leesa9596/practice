{
  "nbformat": 4,
  "nbformat_minor": 0,
  "metadata": {
    "kernelspec": {
      "display_name": "Python 3",
      "language": "python",
      "name": "python3"
    },
    "language_info": {
      "codemirror_mode": {
        "name": "ipython",
        "version": 3
      },
      "file_extension": ".py",
      "mimetype": "text/x-python",
      "name": "python",
      "nbconvert_exporter": "python",
      "pygments_lexer": "ipython3",
      "version": "3.7.5"
    },
    "colab": {
      "name": "autoencoder",
      "provenance": [],
      "include_colab_link": true
    }
  },
  "cells": [
    {
      "cell_type": "markdown",
      "metadata": {
        "id": "view-in-github",
        "colab_type": "text"
      },
      "source": [
        "<a href=\"https://colab.research.google.com/github/leesa9596/practice/blob/main/autoencoder.ipynb\" target=\"_parent\"><img src=\"https://colab.research.google.com/assets/colab-badge.svg\" alt=\"Open In Colab\"/></a>"
      ]
    },
    {
      "cell_type": "markdown",
      "metadata": {
        "id": "s9Ou5yij29It"
      },
      "source": [
        "<a href=\"https://colab.research.google.com/github/minsuk-heo/tf2/blob/master/jupyter_notebooks/04.AutoEncoder.ipynb\" target=\"_parent\"><img src=\"https://colab.research.google.com/assets/colab-badge.svg\" alt=\"Open In Colab\"/></a>"
      ]
    },
    {
      "cell_type": "code",
      "metadata": {
        "id": "JqhJwO-h29Iu"
      },
      "source": [
        "#from __future__ import absolute_import, division, print_function, unicode_literals"
      ],
      "execution_count": null,
      "outputs": []
    },
    {
      "cell_type": "code",
      "metadata": {
        "id": "Mz9hUmWI29Iv",
        "colab": {
          "base_uri": "https://localhost:8080/",
          "height": 36
        },
        "outputId": "69a97373-107f-4dda-d160-0fad12ffa260"
      },
      "source": [
        "import tensorflow as tf\n",
        "from tensorflow.keras.layers import Input, Dense\n",
        "from tensorflow.keras.models import Model\n",
        "\n",
        "import matplotlib.pyplot as plt\n",
        "\n",
        "import numpy as np"
      ],
      "execution_count": 65,
      "outputs": [
        {
          "output_type": "execute_result",
          "data": {
            "application/vnd.google.colaboratory.intrinsic+json": {
              "type": "string"
            },
            "text/plain": [
              "'from IPython.display import Image\\n\\n# in order to always get the same result\\ntf.random.set_seed(1)\\nnp.random.seed(1)'"
            ]
          },
          "metadata": {
            "tags": []
          },
          "execution_count": 65
        }
      ]
    },
    {
      "cell_type": "code",
      "metadata": {
        "id": "XNQi6edq29Ix"
      },
      "source": [
        "#get mnist data\n",
        "(x_train, y_train), (x_test, y_test) = tf.keras.datasets.mnist.load_data()"
      ],
      "execution_count": 66,
      "outputs": []
    },
    {
      "cell_type": "code",
      "metadata": {
        "id": "R3MxoMBB29Iy"
      },
      "source": [
        "# we will use train data for auto encoder training\n",
        "x_train = x_train.reshape(60000, 784)\n",
        "\n",
        "'''# select only 300 test data for visualization \n",
        "x_test = x_test[:300]\n",
        "y_test = y_test[:300]\n",
        "x_test = x_test.reshape(300, 784)'''\n",
        "\n",
        "x_train = x_train.astype('float32')\n",
        "x_test = x_test.astype('float32')\n",
        "\n",
        "# normalize data\n",
        "x_train /= 255\n",
        "x_test /= 255"
      ],
      "execution_count": 82,
      "outputs": []
    },
    {
      "cell_type": "code",
      "metadata": {
        "id": "D21qEOju29Iz"
      },
      "source": [
        "# MNIST input 28 rows * 28 columns = 784 pixels\n",
        "input_img = Input(shape=(784,))\n",
        "# encoder\n",
        "encoder1 = Dense(128, activation='sigmoid')(input_img)\n",
        "encoder2 = Dense(2, activation='sigmoid')(encoder1)\n",
        "# decoder\n",
        "decoder1 = Dense(128, activation='sigmoid')(encoder2)\n",
        "decoder2 = Dense(784, activation='sigmoid')(decoder1)\n",
        "\n",
        "# maps an input to its reconstruction\n",
        "autoencoder = Model(inputs=input_img, outputs=decoder2)"
      ],
      "execution_count": 83,
      "outputs": []
    },
    {
      "cell_type": "code",
      "metadata": {
        "id": "CrHpyvpK29I0"
      },
      "source": [
        "autoencoder.compile(optimizer='adam', loss='binary_crossentropy')"
      ],
      "execution_count": 84,
      "outputs": []
    },
    {
      "cell_type": "code",
      "metadata": {
        "id": "cY_FI5mx29I0",
        "colab": {
          "base_uri": "https://localhost:8080/"
        },
        "outputId": "6272f86e-8b17-4f6d-b24b-72f3249a5f1c"
      },
      "source": [
        "autoencoder.fit(x_train, x_train,\n",
        "                epochs=5,\n",
        "                batch_size=32,\n",
        "                shuffle=True,\n",
        "                validation_data=(x_test, x_test))\n",
        "#no label/put the same img (x_train)"
      ],
      "execution_count": 85,
      "outputs": [
        {
          "output_type": "stream",
          "text": [
            "Epoch 1/5\n",
            "1875/1875 [==============================] - 9s 4ms/step - loss: 0.0099 - val_loss: 1.7153e-04\n",
            "Epoch 2/5\n",
            "1875/1875 [==============================] - 8s 4ms/step - loss: 9.4383e-05 - val_loss: 5.2805e-05\n",
            "Epoch 3/5\n",
            "1875/1875 [==============================] - 8s 4ms/step - loss: 4.1900e-05 - val_loss: 3.2223e-05\n",
            "Epoch 4/5\n",
            "1875/1875 [==============================] - 8s 4ms/step - loss: 3.0941e-05 - val_loss: 2.6950e-05\n",
            "Epoch 5/5\n",
            "1875/1875 [==============================] - 8s 4ms/step - loss: 2.8053e-05 - val_loss: 2.5453e-05\n"
          ],
          "name": "stdout"
        },
        {
          "output_type": "execute_result",
          "data": {
            "text/plain": [
              "<tensorflow.python.keras.callbacks.History at 0x7fd633fb12d0>"
            ]
          },
          "metadata": {
            "tags": []
          },
          "execution_count": 85
        }
      ]
    },
    {
      "cell_type": "code",
      "metadata": {
        "id": "CdR5y7e429I0"
      },
      "source": [
        "# create encoder model\n",
        "encoder = Model(inputs=input_img, outputs=encoder2)\n",
        "# get latent vector(for visualization)\n",
        "latent_vector = encoder.predict(x_test) \n"
      ],
      "execution_count": 86,
      "outputs": []
    },
    {
      "cell_type": "code",
      "metadata": {
        "id": "U6E81Xk-5Nls"
      },
      "source": [
        "# create decoder model\n",
        "encoded_input = Input(shape=(2,))\n",
        "decoder_layer1 = autoencoder.layers[-2]\n",
        "decoder_layer2 = autoencoder.layers[-1]\n",
        "decoder = Model(inputs=encoded_input, outputs=decoder_layer2(decoder_layer1(encoded_input)))\n",
        "\n",
        "# get decoder output to visualize reconstructed image\n",
        "reconstructed_imgs = decoder.predict(latent_vector)"
      ],
      "execution_count": 87,
      "outputs": []
    },
    {
      "cell_type": "code",
      "metadata": {
        "id": "7Lnbwluh29I1",
        "colab": {
          "base_uri": "https://localhost:8080/",
          "height": 242
        },
        "outputId": "efc5bc69-0d09-4e2a-a02c-4e98bd9bd51e"
      },
      "source": [
        "n = 10 \n",
        "plt.figure(figsize=(20, 4))\n",
        "for i in range(n):\n",
        "    # display original\n",
        "    ax = plt.subplot(2, n, i + 1)\n",
        "    plt.imshow(x_test[i].reshape(28, 28))\n",
        "    plt.gray()\n",
        "    ax.get_xaxis().set_visible(False)\n",
        "    ax.get_yaxis().set_visible(False)\n",
        "  \n",
        "\n",
        "    # display reconstructed image\n",
        "    ax = plt.subplot(2, n, i + 1 + n)\n",
        "    plt.imshow(reconstructed_imgs[i].reshape(28, 28))\n",
        "    plt.gray()\n",
        "    ax.get_xaxis().set_visible(False)\n",
        "    ax.get_yaxis().set_visible(False)\n",
        "plt.show()"
      ],
      "execution_count": 88,
      "outputs": [
        {
          "output_type": "display_data",
          "data": {
            "image/png": "[encoded data removed]",
            "text/plain": [
              "<Figure size 1440x288 with 20 Axes>"
            ]
          },
          "metadata": {
            "tags": [],
            "needs_background": "light"
          }
        }
      ]
    },
    {
      "cell_type": "code",
      "metadata": {
        "id": "N76SHDxq5Mca"
      },
      "source": [
        ""
      ],
      "execution_count": null,
      "outputs": []
    },
    {
      "cell_type": "code",
      "metadata": {
        "id": "NE3m1hIK29I1"
      },
      "source": [
        ""
      ],
      "execution_count": null,
      "outputs": []
    }
  ]
}