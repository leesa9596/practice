{
  "nbformat": 4,
  "nbformat_minor": 0,
  "metadata": {
    "kernelspec": {
      "display_name": "Python 3",
      "language": "python",
      "name": "python3"
    },
    "language_info": {
      "codemirror_mode": {
        "name": "ipython",
        "version": 3
      },
      "file_extension": ".py",
      "mimetype": "text/x-python",
      "name": "python",
      "nbconvert_exporter": "python",
      "pygments_lexer": "ipython3",
      "version": "3.7.4"
    },
    "colab": {
      "name": "Deep Learning Tutorial - Version 2.ipynb의 사본",
      "provenance": [],
      "include_colab_link": true
    }
  },
  "cells": [
    {
      "cell_type": "markdown",
      "metadata": {
        "id": "view-in-github",
        "colab_type": "text"
      },
      "source": [
        "<a href=\"https://colab.research.google.com/github/leesa9596/practice/blob/main/Deep_Learning_MNIST.ipynb\" target=\"_parent\"><img src=\"https://colab.research.google.com/assets/colab-badge.svg\" alt=\"Open In Colab\"/></a>"
      ]
    },
    {
      "cell_type": "code",
      "metadata": {
        "id": "HiLQwCxdONCM"
      },
      "source": [
        "from tensorflow.keras.datasets import mnist"
      ],
      "execution_count": 1,
      "outputs": []
    },
    {
      "cell_type": "code",
      "metadata": {
        "id": "THZ_mvj_ONCN",
        "colab": {
          "base_uri": "https://localhost:8080/"
        },
        "outputId": "84009af1-920c-40b7-812d-c61e4717c9f6"
      },
      "source": [
        "(x_train, y_train), (x_test, y_test) = mnist.load_data()"
      ],
      "execution_count": 2,
      "outputs": [
        {
          "output_type": "stream",
          "text": [
            "Downloading data from https://storage.googleapis.com/tensorflow/tf-keras-datasets/mnist.npz\n",
            "11493376/11490434 [==============================] - 0s 0us/step\n"
          ],
          "name": "stdout"
        }
      ]
    },
    {
      "cell_type": "code",
      "metadata": {
        "id": "RRHpJXTHONCN",
        "colab": {
          "base_uri": "https://localhost:8080/"
        },
        "outputId": "f7d121f2-36fe-4c3b-fbf2-5a92e263b684"
      },
      "source": [
        "x_train.shape"
      ],
      "execution_count": 3,
      "outputs": [
        {
          "output_type": "execute_result",
          "data": {
            "text/plain": [
              "(60000, 28, 28)"
            ]
          },
          "metadata": {
            "tags": []
          },
          "execution_count": 3
        }
      ]
    },
    {
      "cell_type": "markdown",
      "metadata": {
        "id": "DOJnflo2ONCO"
      },
      "source": [
        "-------"
      ]
    },
    {
      "cell_type": "code",
      "metadata": {
        "id": "DnmW7VZhONCQ",
        "colab": {
          "base_uri": "https://localhost:8080/",
          "height": 300
        },
        "outputId": "e726cf6c-24c1-426e-e68f-7d45e64676f7"
      },
      "source": [
        "import matplotlib.pyplot as plt \n",
        "%matplotlib inline \n",
        "\n",
        "\n",
        "index = 40 \n",
        "img = x_train[index]\n",
        "print(y_train[index])\n",
        "plt.imshow(img,cmap='gray')"
      ],
      "execution_count": 4,
      "outputs": [
        {
          "output_type": "stream",
          "text": [
            "1\n"
          ],
          "name": "stdout"
        },
        {
          "output_type": "execute_result",
          "data": {
            "text/plain": [
              "<matplotlib.image.AxesImage at 0x7fc9026f2f50>"
            ]
          },
          "metadata": {
            "tags": []
          },
          "execution_count": 4
        },
        {
          "output_type": "display_data",
          "data": {
            "image/png": "[encoded data removed]",
            "text/plain": [
              "<Figure size 432x288 with 1 Axes>"
            ]
          },
          "metadata": {
            "tags": [],
            "needs_background": "light"
          }
        }
      ]
    },
    {
      "cell_type": "markdown",
      "metadata": {
        "id": "sjMoHIK5ONCQ"
      },
      "source": [
        "-------"
      ]
    },
    {
      "cell_type": "code",
      "metadata": {
        "id": "j3s_IAiGONCR"
      },
      "source": [
        "\n",
        "x_train = x_train.astype('float32') \n",
        "x_test = x_test.astype('float32')"
      ],
      "execution_count": 5,
      "outputs": []
    },
    {
      "cell_type": "code",
      "metadata": {
        "id": "qcEO4I2DONCS"
      },
      "source": [
        "\n",
        "x_train /= 255\n",
        "x_test /= 255"
      ],
      "execution_count": 6,
      "outputs": []
    },
    {
      "cell_type": "code",
      "metadata": {
        "id": "BeMH438oONCS"
      },
      "source": [
        "\n",
        "\n",
        "x_train = x_train.reshape(60000, 28*28)\n",
        "x_test = x_test.reshape(10000, 28*28)\n"
      ],
      "execution_count": 8,
      "outputs": []
    },
    {
      "cell_type": "code",
      "metadata": {
        "id": "03kCDePKONCT",
        "colab": {
          "base_uri": "https://localhost:8080/"
        },
        "outputId": "4f583373-c485-449c-f1fb-599c434ac346"
      },
      "source": [
        "\n",
        "\n",
        "y_train[0]"
      ],
      "execution_count": 9,
      "outputs": [
        {
          "output_type": "execute_result",
          "data": {
            "text/plain": [
              "5"
            ]
          },
          "metadata": {
            "tags": []
          },
          "execution_count": 9
        }
      ]
    },
    {
      "cell_type": "code",
      "metadata": {
        "id": "fZnsOJKeONCT"
      },
      "source": [
        "\n",
        "from tensorflow.keras.utils import to_categorical\n",
        "\n",
        "y_train = to_categorical(y_train, 10) # convert class vector to binary class matirx\n",
        "y_test = to_categorical(y_test, 10)"
      ],
      "execution_count": 10,
      "outputs": []
    },
    {
      "cell_type": "code",
      "metadata": {
        "id": "2eDnS7m1ONCT",
        "colab": {
          "base_uri": "https://localhost:8080/"
        },
        "outputId": "00ab5feb-f064-4c35-b09e-1e5c72cdda2c"
      },
      "source": [
        "y_train[0]"
      ],
      "execution_count": 11,
      "outputs": [
        {
          "output_type": "execute_result",
          "data": {
            "text/plain": [
              "array([0., 0., 0., 0., 0., 1., 0., 0., 0., 0.], dtype=float32)"
            ]
          },
          "metadata": {
            "tags": []
          },
          "execution_count": 11
        }
      ]
    },
    {
      "cell_type": "markdown",
      "metadata": {
        "id": "zmOWNu2qONCU"
      },
      "source": [
        "---------"
      ]
    },
    {
      "cell_type": "code",
      "metadata": {
        "id": "IHCUPj6uONCU"
      },
      "source": [
        "from tensorflow.keras.models import Sequential\n",
        "from tensorflow.keras.layers import Activation, Dense, Flatten\n",
        "# from tensorflow.keras import layers\n",
        "# from tensorflow.keras import optimizers"
      ],
      "execution_count": 12,
      "outputs": []
    },
    {
      "cell_type": "code",
      "metadata": {
        "id": "vNhSb61NONCV"
      },
      "source": [
        "def create_model():\n",
        "    model = Sequential()\n",
        "    model.add(Flatten(input_shape=(28, 28)))\n",
        "    model.add(Dense(units=64, activation='relu'))\n",
        "    model.add(Dense(17, 'relu'))\n",
        "    model.add(Dense(units=10, activation='softmax'))\n",
        "\n",
        "    return model"
      ],
      "execution_count": 13,
      "outputs": []
    },
    {
      "cell_type": "code",
      "metadata": {
        "id": "gQnNvGRBONCV"
      },
      "source": [
        "model_f = create_model()"
      ],
      "execution_count": 14,
      "outputs": []
    },
    {
      "cell_type": "code",
      "metadata": {
        "id": "yIAy98x3ONCW",
        "colab": {
          "base_uri": "https://localhost:8080/"
        },
        "outputId": "2f169778-f39a-4d9e-f237-ec1883f766c9"
      },
      "source": [
        "model_f.summary()"
      ],
      "execution_count": 15,
      "outputs": [
        {
          "output_type": "stream",
          "text": [
            "Model: \"sequential\"\n",
            "_________________________________________________________________\n",
            "Layer (type)                 Output Shape              Param #   \n",
            "=================================================================\n",
            "flatten (Flatten)            (None, 784)               0         \n",
            "_________________________________________________________________\n",
            "dense (Dense)                (None, 64)                50240     \n",
            "_________________________________________________________________\n",
            "dense_1 (Dense)              (None, 17)                1105      \n",
            "_________________________________________________________________\n",
            "dense_2 (Dense)              (None, 10)                180       \n",
            "=================================================================\n",
            "Total params: 51,525\n",
            "Trainable params: 51,525\n",
            "Non-trainable params: 0\n",
            "_________________________________________________________________\n"
          ],
          "name": "stdout"
        }
      ]
    },
    {
      "cell_type": "markdown",
      "metadata": {
        "id": "wyrWLFT1ONCW"
      },
      "source": [
        "------"
      ]
    },
    {
      "cell_type": "code",
      "metadata": {
        "id": "akUmVS3PONCX"
      },
      "source": [
        "model_f.compile(optimizer = 'adam', \n",
        "              loss = 'categorical_crossentropy', \n",
        "             metrics = ['accuracy'])"
      ],
      "execution_count": 16,
      "outputs": []
    },
    {
      "cell_type": "markdown",
      "metadata": {
        "id": "QDwJiWP3ONCX"
      },
      "source": [
        "---------"
      ]
    },
    {
      "cell_type": "code",
      "metadata": {
        "id": "DGvAZJfpONCY"
      },
      "source": [
        "from sklearn.model_selection import train_test_split"
      ],
      "execution_count": 17,
      "outputs": []
    },
    {
      "cell_type": "code",
      "metadata": {
        "id": "Ah-eejvlONCZ"
      },
      "source": [
        "x_train, x_val, y_train, y_val = train_test_split(x_train, y_train, train_size = 5/6)"
      ],
      "execution_count": 18,
      "outputs": []
    },
    {
      "cell_type": "code",
      "metadata": {
        "id": "SIsRMvx6ONCZ",
        "colab": {
          "base_uri": "https://localhost:8080/"
        },
        "outputId": "ed8553f4-648c-4070-8a65-a05c8dd5a94b"
      },
      "source": [
        "history = model_f.fit(x_train, y_train, validation_data=(x_val,y_val), epochs=5)"
      ],
      "execution_count": 19,
      "outputs": [
        {
          "output_type": "stream",
          "text": [
            "Epoch 1/5\n",
            "WARNING:tensorflow:Model was constructed with shape (None, 28, 28) for input KerasTensor(type_spec=TensorSpec(shape=(None, 28, 28), dtype=tf.float32, name='flatten_input'), name='flatten_input', description=\"created by layer 'flatten_input'\"), but it was called on an input with incompatible shape (None, 784).\n",
            "WARNING:tensorflow:Model was constructed with shape (None, 28, 28) for input KerasTensor(type_spec=TensorSpec(shape=(None, 28, 28), dtype=tf.float32, name='flatten_input'), name='flatten_input', description=\"created by layer 'flatten_input'\"), but it was called on an input with incompatible shape (None, 784).\n",
            "1548/1563 [============================>.] - ETA: 0s - loss: 0.3544 - accuracy: 0.8984WARNING:tensorflow:Model was constructed with shape (None, 28, 28) for input KerasTensor(type_spec=TensorSpec(shape=(None, 28, 28), dtype=tf.float32, name='flatten_input'), name='flatten_input', description=\"created by layer 'flatten_input'\"), but it was called on an input with incompatible shape (None, 784).\n",
            "1563/1563 [==============================] - 4s 2ms/step - loss: 0.3527 - accuracy: 0.8988 - val_loss: 0.2261 - val_accuracy: 0.9353\n",
            "Epoch 2/5\n",
            "1563/1563 [==============================] - 3s 2ms/step - loss: 0.1641 - accuracy: 0.9526 - val_loss: 0.1639 - val_accuracy: 0.9524\n",
            "Epoch 3/5\n",
            "1563/1563 [==============================] - 3s 2ms/step - loss: 0.1225 - accuracy: 0.9646 - val_loss: 0.1464 - val_accuracy: 0.9564\n",
            "Epoch 4/5\n",
            "1563/1563 [==============================] - 3s 2ms/step - loss: 0.0986 - accuracy: 0.9709 - val_loss: 0.1472 - val_accuracy: 0.9565\n",
            "Epoch 5/5\n",
            "1563/1563 [==============================] - 3s 2ms/step - loss: 0.0821 - accuracy: 0.9754 - val_loss: 0.1320 - val_accuracy: 0.9605\n"
          ],
          "name": "stdout"
        }
      ]
    },
    {
      "cell_type": "code",
      "metadata": {
        "id": "JsMJyjTmONCa",
        "colab": {
          "base_uri": "https://localhost:8080/"
        },
        "outputId": "425cc6e0-af77-4827-a2f5-92a3cecc07d0"
      },
      "source": [
        "vars(history) "
      ],
      "execution_count": 20,
      "outputs": [
        {
          "output_type": "execute_result",
          "data": {
            "text/plain": [
              "{'_chief_worker_only': None,\n",
              " '_supports_tf_logs': False,\n",
              " 'epoch': [0, 1, 2, 3, 4],\n",
              " 'history': {'accuracy': [0.8987600207328796,\n",
              "   0.9526000022888184,\n",
              "   0.9645599722862244,\n",
              "   0.9708799719810486,\n",
              "   0.9754199981689453],\n",
              "  'loss': [0.3527124524116516,\n",
              "   0.1641022264957428,\n",
              "   0.12252423912286758,\n",
              "   0.09861402958631516,\n",
              "   0.08207827061414719],\n",
              "  'val_accuracy': [0.9352999925613403,\n",
              "   0.9524000287055969,\n",
              "   0.9563999772071838,\n",
              "   0.9564999938011169,\n",
              "   0.9605000019073486],\n",
              "  'val_loss': [0.22607216238975525,\n",
              "   0.16393904387950897,\n",
              "   0.14635592699050903,\n",
              "   0.14722304046154022,\n",
              "   0.13198277354240417]},\n",
              " 'model': <tensorflow.python.keras.engine.sequential.Sequential at 0x7fc90339e6d0>,\n",
              " 'params': {'epochs': 5, 'steps': 1563, 'verbose': 1},\n",
              " 'validation_data': None}"
            ]
          },
          "metadata": {
            "tags": []
          },
          "execution_count": 20
        }
      ]
    },
    {
      "cell_type": "code",
      "metadata": {
        "id": "cj82_BIwONCa",
        "colab": {
          "base_uri": "https://localhost:8080/"
        },
        "outputId": "ff44e86e-e55c-4575-a25c-bfef2164c76b"
      },
      "source": [
        "model_f = create_model()\n",
        "model_f.compile(optimizer = 'adam', loss = 'categorical_crossentropy', metrics = ['accuracy'])\n",
        "history = model_f.fit(x_train, y_train, validation_data=(x_val,y_val), epochs=5)"
      ],
      "execution_count": 21,
      "outputs": [
        {
          "output_type": "stream",
          "text": [
            "Epoch 1/5\n",
            "WARNING:tensorflow:Model was constructed with shape (None, 28, 28) for input KerasTensor(type_spec=TensorSpec(shape=(None, 28, 28), dtype=tf.float32, name='flatten_1_input'), name='flatten_1_input', description=\"created by layer 'flatten_1_input'\"), but it was called on an input with incompatible shape (None, 784).\n",
            "WARNING:tensorflow:Model was constructed with shape (None, 28, 28) for input KerasTensor(type_spec=TensorSpec(shape=(None, 28, 28), dtype=tf.float32, name='flatten_1_input'), name='flatten_1_input', description=\"created by layer 'flatten_1_input'\"), but it was called on an input with incompatible shape (None, 784).\n",
            "1545/1563 [============================>.] - ETA: 0s - loss: 0.3327 - accuracy: 0.9045WARNING:tensorflow:Model was constructed with shape (None, 28, 28) for input KerasTensor(type_spec=TensorSpec(shape=(None, 28, 28), dtype=tf.float32, name='flatten_1_input'), name='flatten_1_input', description=\"created by layer 'flatten_1_input'\"), but it was called on an input with incompatible shape (None, 784).\n",
            "1563/1563 [==============================] - 4s 2ms/step - loss: 0.3309 - accuracy: 0.9050 - val_loss: 0.1952 - val_accuracy: 0.9414\n",
            "Epoch 2/5\n",
            "1563/1563 [==============================] - 3s 2ms/step - loss: 0.1516 - accuracy: 0.9553 - val_loss: 0.1589 - val_accuracy: 0.9521\n",
            "Epoch 3/5\n",
            "1563/1563 [==============================] - 3s 2ms/step - loss: 0.1120 - accuracy: 0.9675 - val_loss: 0.1345 - val_accuracy: 0.9600\n",
            "Epoch 4/5\n",
            "1563/1563 [==============================] - 3s 2ms/step - loss: 0.0885 - accuracy: 0.9737 - val_loss: 0.1187 - val_accuracy: 0.9623\n",
            "Epoch 5/5\n",
            "1563/1563 [==============================] - 3s 2ms/step - loss: 0.0713 - accuracy: 0.9787 - val_loss: 0.1098 - val_accuracy: 0.9677\n"
          ],
          "name": "stdout"
        }
      ]
    },
    {
      "cell_type": "markdown",
      "metadata": {
        "id": "FqvvL5NPONCb"
      },
      "source": [
        "-----------"
      ]
    },
    {
      "cell_type": "code",
      "metadata": {
        "id": "zyp39cIVONCb",
        "colab": {
          "base_uri": "https://localhost:8080/",
          "height": 295
        },
        "outputId": "d4fa869d-a7bb-4339-e100-2659a8302fb5"
      },
      "source": [
        "import matplotlib.pyplot as plt\n",
        "\n",
        "loss = history.history['loss']\n",
        "val_loss = history.history['val_loss']\n",
        "\n",
        "epochs = range(1, len(loss) + 1)\n",
        "\n",
        "plt.plot(epochs, loss, 'r', label = 'Training loss')\n",
        "plt.plot(epochs, val_loss, 'b', label = 'Validation loss')\n",
        "plt.title('Training and validation loss')\n",
        "plt.xlabel('Epochs')\n",
        "plt.ylabel('Loss')\n",
        "plt.legend()      \n",
        "plt.show()"
      ],
      "execution_count": 22,
      "outputs": [
        {
          "output_type": "display_data",
          "data": {
            "image/png": "[encoded data removed]",
            "text/plain": [
              "<Figure size 432x288 with 1 Axes>"
            ]
          },
          "metadata": {
            "tags": [],
            "needs_background": "light"
          }
        }
      ]
    },
    {
      "cell_type": "code",
      "metadata": {
        "id": "5CHWjnuVONCb",
        "colab": {
          "base_uri": "https://localhost:8080/",
          "height": 295
        },
        "outputId": "25fab377-116a-4006-8725-6e102eac5bd3"
      },
      "source": [
        "acc = history.history['accuracy']\n",
        "val_acc = history.history['val_accuracy']\n",
        "\n",
        "plt.plot(epochs, acc, 'r', label = 'Training accuracy')\n",
        "plt.plot(epochs, val_acc, 'b', label = 'Validation accuracy')\n",
        "plt.title('Training and validation accuracy')\n",
        "plt.xlabel('Epochs')\n",
        "plt.ylabel('Accuracy')\n",
        "plt.legend()\n",
        "\n",
        "plt.show()"
      ],
      "execution_count": 23,
      "outputs": [
        {
          "output_type": "display_data",
          "data": {
            "image/png": "[encoded data removed]",
            "text/plain": [
              "<Figure size 432x288 with 1 Axes>"
            ]
          },
          "metadata": {
            "tags": [],
            "needs_background": "light"
          }
        }
      ]
    },
    {
      "cell_type": "markdown",
      "metadata": {
        "id": "b-_-evYsONCc"
      },
      "source": [
        "---------------"
      ]
    },
    {
      "cell_type": "code",
      "metadata": {
        "id": "8qndFhdaONCc"
      },
      "source": [
        "loss_and_metrics = model_f.evaluate(x_test, y_test, verbose=0)"
      ],
      "execution_count": 24,
      "outputs": []
    },
    {
      "cell_type": "code",
      "metadata": {
        "id": "OZ68ayanONCd",
        "colab": {
          "base_uri": "https://localhost:8080/"
        },
        "outputId": "e4c296a6-b9f5-46f9-af9b-05da2a874328"
      },
      "source": [
        "print('\\n')\n",
        "print('test_loss: ' + str(loss_and_metrics[0]))\n",
        "print('test_accuracy: ' + str(loss_and_metrics[1]*100) + '%')"
      ],
      "execution_count": 25,
      "outputs": [
        {
          "output_type": "stream",
          "text": [
            "\n",
            "\n",
            "test_loss: 0.0919918566942215\n",
            "test_accuracy: 97.29999899864197%\n"
          ],
          "name": "stdout"
        }
      ]
    },
    {
      "cell_type": "markdown",
      "metadata": {
        "id": "XWgZvr_cONCd"
      },
      "source": [
        "------------"
      ]
    }
  ]
}