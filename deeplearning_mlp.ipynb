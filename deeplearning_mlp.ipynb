{
  "nbformat": 4,
  "nbformat_minor": 0,
  "metadata": {
    "kernelspec": {
      "display_name": "Python 3",
      "language": "python",
      "name": "python3"
    },
    "language_info": {
      "codemirror_mode": {
        "name": "ipython",
        "version": 3
      },
      "file_extension": ".py",
      "mimetype": "text/x-python",
      "name": "python",
      "nbconvert_exporter": "python",
      "pygments_lexer": "ipython3",
      "version": "3.7.4"
    },
    "colab": {
      "name": "deeplearning_mlp",
      "provenance": [],
      "include_colab_link": true
    }
  },
  "cells": [
    {
      "cell_type": "markdown",
      "metadata": {
        "id": "view-in-github",
        "colab_type": "text"
      },
      "source": [
        "<a href=\"https://colab.research.google.com/github/leesa9596/practice/blob/main/deeplearning_mlp.ipynb\" target=\"_parent\"><img src=\"https://colab.research.google.com/assets/colab-badge.svg\" alt=\"Open In Colab\"/></a>"
      ]
    },
    {
      "cell_type": "code",
      "metadata": {
        "id": "HiLQwCxdONCM"
      },
      "source": [
        "from tensorflow.keras.datasets import mnist"
      ],
      "execution_count": null,
      "outputs": []
    },
    {
      "cell_type": "code",
      "metadata": {
        "id": "THZ_mvj_ONCN",
        "colab": {
          "base_uri": "https://localhost:8080/"
        },
        "outputId": "b0c93220-41d0-41b1-dbb4-4379c613962a"
      },
      "source": [
        "(x_train, y_train), (x_test, y_test) = mnist.load_data()"
      ],
      "execution_count": null,
      "outputs": [
        {
          "output_type": "stream",
          "text": [
            "Downloading data from https://storage.googleapis.com/tensorflow/tf-keras-datasets/mnist.npz\n",
            "11493376/11490434 [==============================] - 0s 0us/step\n"
          ],
          "name": "stdout"
        }
      ]
    },
    {
      "cell_type": "code",
      "metadata": {
        "id": "RRHpJXTHONCN",
        "colab": {
          "base_uri": "https://localhost:8080/"
        },
        "outputId": "bc1ee91d-5244-4f33-f3fb-35db28f96a7a"
      },
      "source": [
        "x_train.shape"
      ],
      "execution_count": null,
      "outputs": [
        {
          "output_type": "execute_result",
          "data": {
            "text/plain": [
              "(60000, 28, 28)"
            ]
          },
          "metadata": {
            "tags": []
          },
          "execution_count": 4
        }
      ]
    },
    {
      "cell_type": "markdown",
      "metadata": {
        "id": "DOJnflo2ONCO"
      },
      "source": [
        "-------"
      ]
    },
    {
      "cell_type": "code",
      "metadata": {
        "id": "DnmW7VZhONCQ",
        "colab": {
          "base_uri": "https://localhost:8080/",
          "height": 302
        },
        "outputId": "7ceece85-f3df-42cb-a6b5-ef7310f6b188"
      },
      "source": [
        "import matplotlib.pyplot as plt \n",
        "%matplotlib inline \n",
        "\n",
        "\n",
        "index = 40 \n",
        "img = x_train[index]\n",
        "print(y_train[index])\n",
        "plt.imshow(img,cmap='gray')"
      ],
      "execution_count": null,
      "outputs": [
        {
          "output_type": "stream",
          "text": [
            "1\n"
          ],
          "name": "stdout"
        },
        {
          "output_type": "execute_result",
          "data": {
            "text/plain": [
              "<matplotlib.image.AxesImage at 0x7feff14233d0>"
            ]
          },
          "metadata": {
            "tags": []
          },
          "execution_count": 5
        },
        {
          "output_type": "display_data",
          "data": {
            "image/png": "[encoded data removed]",
            "text/plain": [
              "<Figure size 432x288 with 1 Axes>"
            ]
          },
          "metadata": {
            "tags": [],
            "needs_background": "light"
          }
        }
      ]
    },
    {
      "cell_type": "markdown",
      "metadata": {
        "id": "sjMoHIK5ONCQ"
      },
      "source": [
        "-------"
      ]
    },
    {
      "cell_type": "code",
      "metadata": {
        "id": "j3s_IAiGONCR"
      },
      "source": [
        "x_train = x_train.astype('float32') \n",
        "x_test = x_test.astype('float32')"
      ],
      "execution_count": null,
      "outputs": []
    },
    {
      "cell_type": "code",
      "metadata": {
        "id": "qcEO4I2DONCS"
      },
      "source": [
        "x_train /= 255\n",
        "x_test /= 255"
      ],
      "execution_count": null,
      "outputs": []
    },
    {
      "cell_type": "code",
      "metadata": {
        "id": "BeMH438oONCS"
      },
      "source": [
        "x_train = x_train.reshape(60000, 28*28)\n",
        "x_test = x_test.reshape(10000, 28*28)\n"
      ],
      "execution_count": null,
      "outputs": []
    },
    {
      "cell_type": "code",
      "metadata": {
        "id": "03kCDePKONCT",
        "colab": {
          "base_uri": "https://localhost:8080/"
        },
        "outputId": "1a04a881-5ac7-49ea-e797-e6eb722f7350"
      },
      "source": [
        "y_train[0]"
      ],
      "execution_count": null,
      "outputs": [
        {
          "output_type": "execute_result",
          "data": {
            "text/plain": [
              "5"
            ]
          },
          "metadata": {
            "tags": []
          },
          "execution_count": 9
        }
      ]
    },
    {
      "cell_type": "code",
      "metadata": {
        "id": "fZnsOJKeONCT"
      },
      "source": [
        "from tensorflow.keras.utils import to_categorical\n",
        "\n",
        "y_train = to_categorical(y_train, 10) # convert class vector to binary class matirx\n",
        "y_test = to_categorical(y_test, 10)"
      ],
      "execution_count": null,
      "outputs": []
    },
    {
      "cell_type": "code",
      "metadata": {
        "id": "2eDnS7m1ONCT",
        "colab": {
          "base_uri": "https://localhost:8080/"
        },
        "outputId": "2c56f4d6-d1ec-475c-89a9-1d8e2bd55f17"
      },
      "source": [
        "y_train[0]"
      ],
      "execution_count": null,
      "outputs": [
        {
          "output_type": "execute_result",
          "data": {
            "text/plain": [
              "array([0., 0., 0., 0., 0., 1., 0., 0., 0., 0.], dtype=float32)"
            ]
          },
          "metadata": {
            "tags": []
          },
          "execution_count": 11
        }
      ]
    },
    {
      "cell_type": "markdown",
      "metadata": {
        "id": "zmOWNu2qONCU"
      },
      "source": [
        "---------"
      ]
    },
    {
      "cell_type": "code",
      "metadata": {
        "id": "IHCUPj6uONCU"
      },
      "source": [
        "from tensorflow.keras.models import Sequential\n",
        "from tensorflow.keras.layers import Activation, Dense, Flatten\n"
      ],
      "execution_count": null,
      "outputs": []
    },
    {
      "cell_type": "code",
      "metadata": {
        "id": "vNhSb61NONCV"
      },
      "source": [
        "def create_model():\n",
        "    model = Sequential()\n",
        "    model.add(Flatten(input_shape=(28, 28)))\n",
        "    model.add(Dense(64, activation='relu'))\n",
        "    model.add(Dense(16, 'relu'))\n",
        "    model.add(Dense(units=10, activation='softmax'))\n",
        "\n",
        "    return model"
      ],
      "execution_count": null,
      "outputs": []
    },
    {
      "cell_type": "code",
      "metadata": {
        "id": "gQnNvGRBONCV"
      },
      "source": [
        "model_f = create_model()"
      ],
      "execution_count": null,
      "outputs": []
    },
    {
      "cell_type": "code",
      "metadata": {
        "id": "yIAy98x3ONCW",
        "colab": {
          "base_uri": "https://localhost:8080/"
        },
        "outputId": "69848f4e-32bd-4504-dcda-e214a663b00c"
      },
      "source": [
        "model_f.summary()"
      ],
      "execution_count": null,
      "outputs": [
        {
          "output_type": "stream",
          "text": [
            "Model: \"sequential\"\n",
            "_________________________________________________________________\n",
            "Layer (type)                 Output Shape              Param #   \n",
            "=================================================================\n",
            "flatten (Flatten)            (None, 784)               0         \n",
            "_________________________________________________________________\n",
            "dense (Dense)                (None, 64)                50240     \n",
            "_________________________________________________________________\n",
            "dense_1 (Dense)              (None, 16)                1040      \n",
            "_________________________________________________________________\n",
            "dense_2 (Dense)              (None, 10)                170       \n",
            "=================================================================\n",
            "Total params: 51,450\n",
            "Trainable params: 51,450\n",
            "Non-trainable params: 0\n",
            "_________________________________________________________________\n"
          ],
          "name": "stdout"
        }
      ]
    },
    {
      "cell_type": "code",
      "metadata": {
        "id": "akUmVS3PONCX"
      },
      "source": [
        "model_f.compile(optimizer = 'adam', \n",
        "              loss = 'categorical_crossentropy', \n",
        "             metrics = ['accuracy'])"
      ],
      "execution_count": null,
      "outputs": []
    },
    {
      "cell_type": "code",
      "metadata": {
        "id": "DGvAZJfpONCY"
      },
      "source": [
        "from sklearn.model_selection import train_test_split"
      ],
      "execution_count": null,
      "outputs": []
    },
    {
      "cell_type": "code",
      "metadata": {
        "id": "Ah-eejvlONCZ"
      },
      "source": [
        "x_train, x_val, y_train, y_val = train_test_split(x_train, y_train, train_size = 5/6)"
      ],
      "execution_count": null,
      "outputs": []
    },
    {
      "cell_type": "code",
      "metadata": {
        "id": "SIsRMvx6ONCZ",
        "colab": {
          "base_uri": "https://localhost:8080/"
        },
        "outputId": "a77f2246-a642-4219-825b-d311749e3f17"
      },
      "source": [
        "history = model_f.fit(x_train, y_train, validation_data=(x_val,y_val), epochs=5)"
      ],
      "execution_count": null,
      "outputs": [
        {
          "output_type": "stream",
          "text": [
            "Epoch 1/5\n",
            "WARNING:tensorflow:Model was constructed with shape (None, 28, 28) for input KerasTensor(type_spec=TensorSpec(shape=(None, 28, 28), dtype=tf.float32, name='flatten_input'), name='flatten_input', description=\"created by layer 'flatten_input'\"), but it was called on an input with incompatible shape (None, 784).\n",
            "WARNING:tensorflow:Model was constructed with shape (None, 28, 28) for input KerasTensor(type_spec=TensorSpec(shape=(None, 28, 28), dtype=tf.float32, name='flatten_input'), name='flatten_input', description=\"created by layer 'flatten_input'\"), but it was called on an input with incompatible shape (None, 784).\n",
            "1552/1563 [============================>.] - ETA: 0s - loss: 0.3575 - accuracy: 0.8965WARNING:tensorflow:Model was constructed with shape (None, 28, 28) for input KerasTensor(type_spec=TensorSpec(shape=(None, 28, 28), dtype=tf.float32, name='flatten_input'), name='flatten_input', description=\"created by layer 'flatten_input'\"), but it was called on an input with incompatible shape (None, 784).\n",
            "1563/1563 [==============================] - 4s 2ms/step - loss: 0.3565 - accuracy: 0.8967 - val_loss: 0.2083 - val_accuracy: 0.9404\n",
            "Epoch 2/5\n",
            "1563/1563 [==============================] - 3s 2ms/step - loss: 0.1622 - accuracy: 0.9523 - val_loss: 0.1593 - val_accuracy: 0.9544\n",
            "Epoch 3/5\n",
            "1563/1563 [==============================] - 3s 2ms/step - loss: 0.1183 - accuracy: 0.9656 - val_loss: 0.1345 - val_accuracy: 0.9611\n",
            "Epoch 4/5\n",
            "1563/1563 [==============================] - 3s 2ms/step - loss: 0.0934 - accuracy: 0.9721 - val_loss: 0.1247 - val_accuracy: 0.9659\n",
            "Epoch 5/5\n",
            "1563/1563 [==============================] - 3s 2ms/step - loss: 0.0765 - accuracy: 0.9767 - val_loss: 0.1291 - val_accuracy: 0.9649\n"
          ],
          "name": "stdout"
        }
      ]
    },
    {
      "cell_type": "code",
      "metadata": {
        "id": "JsMJyjTmONCa",
        "colab": {
          "base_uri": "https://localhost:8080/"
        },
        "outputId": "c67d4ef0-ebb0-4c39-ea7c-92f4d67844ed"
      },
      "source": [
        "vars(history) "
      ],
      "execution_count": null,
      "outputs": [
        {
          "output_type": "execute_result",
          "data": {
            "text/plain": [
              "{'_chief_worker_only': None,\n",
              " '_supports_tf_logs': False,\n",
              " 'epoch': [0, 1, 2, 3, 4],\n",
              " 'history': {'accuracy': [0.8967400193214417,\n",
              "   0.9523199796676636,\n",
              "   0.9655799865722656,\n",
              "   0.9720799922943115,\n",
              "   0.9767400026321411],\n",
              "  'loss': [0.3565008342266083,\n",
              "   0.1622157245874405,\n",
              "   0.11828377842903137,\n",
              "   0.09340257942676544,\n",
              "   0.07649059593677521],\n",
              "  'val_accuracy': [0.9404000043869019,\n",
              "   0.9544000029563904,\n",
              "   0.9610999822616577,\n",
              "   0.9659000039100647,\n",
              "   0.964900016784668],\n",
              "  'val_loss': [0.20830407738685608,\n",
              "   0.15933001041412354,\n",
              "   0.13449233770370483,\n",
              "   0.12473922967910767,\n",
              "   0.1290828287601471]},\n",
              " 'model': <tensorflow.python.keras.engine.sequential.Sequential at 0x7feff2173550>,\n",
              " 'params': {'epochs': 5, 'steps': 1563, 'verbose': 1},\n",
              " 'validation_data': None}"
            ]
          },
          "metadata": {
            "tags": []
          },
          "execution_count": 20
        }
      ]
    },
    {
      "cell_type": "code",
      "metadata": {
        "id": "zyp39cIVONCb",
        "colab": {
          "base_uri": "https://localhost:8080/",
          "height": 295
        },
        "outputId": "77f4dc09-ef07-49d8-d572-9f3eb240757f"
      },
      "source": [
        "import matplotlib.pyplot as plt\n",
        "\n",
        "loss = history.history['loss']\n",
        "val_loss = history.history['val_loss']\n",
        "\n",
        "epochs = range(1, len(loss) + 1)\n",
        "\n",
        "plt.plot(epochs, loss, 'r', label = 'Training loss')\n",
        "plt.plot(epochs, val_loss, 'b', label = 'Validation loss')\n",
        "plt.title('Training and validation loss')\n",
        "plt.xlabel('Epochs')\n",
        "plt.ylabel('Loss')\n",
        "plt.legend()      \n",
        "plt.show()"
      ],
      "execution_count": null,
      "outputs": [
        {
          "output_type": "display_data",
          "data": {
            "image/png": "[encoded data removed]",
            "text/plain": [
              "<Figure size 432x288 with 1 Axes>"
            ]
          },
          "metadata": {
            "tags": [],
            "needs_background": "light"
          }
        }
      ]
    },
    {
      "cell_type": "code",
      "metadata": {
        "id": "5CHWjnuVONCb",
        "colab": {
          "base_uri": "https://localhost:8080/",
          "height": 295
        },
        "outputId": "85f44523-e880-4140-cba8-ce839bfd55d0"
      },
      "source": [
        "acc = history.history['accuracy']\n",
        "val_acc = history.history['val_accuracy']\n",
        "\n",
        "plt.plot(epochs, acc, 'r', label = 'Training accuracy')\n",
        "plt.plot(epochs, val_acc, 'b', label = 'Validation accuracy')\n",
        "plt.title('Training and validation accuracy')\n",
        "plt.xlabel('Epochs')\n",
        "plt.ylabel('Accuracy')\n",
        "plt.legend()\n",
        "\n",
        "plt.show()"
      ],
      "execution_count": null,
      "outputs": [
        {
          "output_type": "display_data",
          "data": {
            "image/png": "[encoded data removed]",
            "text/plain": [
              "<Figure size 432x288 with 1 Axes>"
            ]
          },
          "metadata": {
            "tags": [],
            "needs_background": "light"
          }
        }
      ]
    },
    {
      "cell_type": "code",
      "metadata": {
        "id": "8qndFhdaONCc"
      },
      "source": [
        "loss_and_metrics = model_f.evaluate(x_test, y_test, verbose=0)"
      ],
      "execution_count": null,
      "outputs": []
    },
    {
      "cell_type": "code",
      "metadata": {
        "id": "OZ68ayanONCd",
        "colab": {
          "base_uri": "https://localhost:8080/"
        },
        "outputId": "5f03f0a5-54e0-4619-82fb-1396706a54ad"
      },
      "source": [
        "print('\\n')\n",
        "print('test_loss: ' + str(loss_and_metrics[0]))\n",
        "print('test_accuracy: ' + str(loss_and_metrics[1]*100) + '%')"
      ],
      "execution_count": null,
      "outputs": [
        {
          "output_type": "stream",
          "text": [
            "\n",
            "\n",
            "test_loss: 0.11394961923360825\n",
            "test_accuracy: 96.67999744415283%\n"
          ],
          "name": "stdout"
        }
      ]
    }
  ]
}